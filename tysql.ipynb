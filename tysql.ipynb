{
 "cells": [
  {
   "cell_type": "code",
   "execution_count": 1,
   "metadata": {},
   "outputs": [],
   "source": [
    "%load_ext sql\n",
    "%sql sqlite:///TYSQL.sqlite  "
   ]
  },
  {
   "cell_type": "code",
   "execution_count": 7,
   "metadata": {},
   "outputs": [
    {
     "name": "stdout",
     "output_type": "stream",
     "text": [
      " * sqlite:///TYSQL.sqlite\n",
      "Done.\n"
     ]
    },
    {
     "data": {
      "text/html": [
       "<table>\n",
       "    <tr>\n",
       "        <th>cust_id</th>\n",
       "    </tr>\n",
       "    <tr>\n",
       "        <td>1000000001</td>\n",
       "    </tr>\n",
       "    <tr>\n",
       "        <td>1000000002</td>\n",
       "    </tr>\n",
       "    <tr>\n",
       "        <td>1000000003</td>\n",
       "    </tr>\n",
       "    <tr>\n",
       "        <td>1000000004</td>\n",
       "    </tr>\n",
       "    <tr>\n",
       "        <td>1000000005</td>\n",
       "    </tr>\n",
       "    <tr>\n",
       "        <td>1000000006</td>\n",
       "    </tr>\n",
       "</table>"
      ],
      "text/plain": [
       "[('1000000001',),\n",
       " ('1000000002',),\n",
       " ('1000000003',),\n",
       " ('1000000004',),\n",
       " ('1000000005',),\n",
       " ('1000000006',)]"
      ]
     },
     "execution_count": 7,
     "metadata": {},
     "output_type": "execute_result"
    }
   ],
   "source": [
    "%sql SELECT cust_id FROM Customers;"
   ]
  },
  {
   "cell_type": "code",
   "execution_count": 8,
   "metadata": {},
   "outputs": [
    {
     "name": "stdout",
     "output_type": "stream",
     "text": [
      " * sqlite:///TYSQL.sqlite\n",
      "Done.\n"
     ]
    },
    {
     "data": {
      "text/html": [
       "<table>\n",
       "    <tr>\n",
       "        <th>prod_id</th>\n",
       "    </tr>\n",
       "    <tr>\n",
       "        <td>BR01</td>\n",
       "    </tr>\n",
       "    <tr>\n",
       "        <td>BR03</td>\n",
       "    </tr>\n",
       "    <tr>\n",
       "        <td>BR02</td>\n",
       "    </tr>\n",
       "    <tr>\n",
       "        <td>BNBG01</td>\n",
       "    </tr>\n",
       "    <tr>\n",
       "        <td>BNBG02</td>\n",
       "    </tr>\n",
       "    <tr>\n",
       "        <td>BNBG03</td>\n",
       "    </tr>\n",
       "    <tr>\n",
       "        <td>RGAN01</td>\n",
       "    </tr>\n",
       "</table>"
      ],
      "text/plain": [
       "[('BR01',),\n",
       " ('BR03',),\n",
       " ('BR02',),\n",
       " ('BNBG01',),\n",
       " ('BNBG02',),\n",
       " ('BNBG03',),\n",
       " ('RGAN01',)]"
      ]
     },
     "execution_count": 8,
     "metadata": {},
     "output_type": "execute_result"
    }
   ],
   "source": [
    "%sql SELECT DISTINCT prod_id FROM OrderItems;"
   ]
  },
  {
   "cell_type": "code",
   "execution_count": 12,
   "metadata": {},
   "outputs": [
    {
     "name": "stdout",
     "output_type": "stream",
     "text": [
      " * sqlite:///TYSQL.sqlite\n",
      "Done.\n"
     ]
    },
    {
     "data": {
      "text/html": [
       "<table>\n",
       "    <tr>\n",
       "        <th>cust_id</th>\n",
       "    </tr>\n",
       "    <tr>\n",
       "        <td>1000000001</td>\n",
       "    </tr>\n",
       "    <tr>\n",
       "        <td>1000000002</td>\n",
       "    </tr>\n",
       "    <tr>\n",
       "        <td>1000000003</td>\n",
       "    </tr>\n",
       "    <tr>\n",
       "        <td>1000000004</td>\n",
       "    </tr>\n",
       "    <tr>\n",
       "        <td>1000000005</td>\n",
       "    </tr>\n",
       "    <tr>\n",
       "        <td>1000000006</td>\n",
       "    </tr>\n",
       "</table>"
      ],
      "text/plain": [
       "[('1000000001',),\n",
       " ('1000000002',),\n",
       " ('1000000003',),\n",
       " ('1000000004',),\n",
       " ('1000000005',),\n",
       " ('1000000006',)]"
      ]
     },
     "execution_count": 12,
     "metadata": {},
     "output_type": "execute_result"
    }
   ],
   "source": [
    "%sql SELECT cust_id FROM Customers;"
   ]
  },
  {
   "cell_type": "code",
   "execution_count": 20,
   "metadata": {},
   "outputs": [
    {
     "name": "stdout",
     "output_type": "stream",
     "text": [
      " * sqlite:///TYSQL.sqlite\n",
      "Done.\n"
     ]
    },
    {
     "data": {
      "text/html": [
       "<table>\n",
       "    <tr>\n",
       "        <th>cust_name</th>\n",
       "    </tr>\n",
       "    <tr>\n",
       "        <td>Village Toys</td>\n",
       "    </tr>\n",
       "    <tr>\n",
       "        <td>Toy Land</td>\n",
       "    </tr>\n",
       "    <tr>\n",
       "        <td>The Toy Store</td>\n",
       "    </tr>\n",
       "    <tr>\n",
       "        <td>Kids Place</td>\n",
       "    </tr>\n",
       "    <tr>\n",
       "        <td>Fun4All</td>\n",
       "    </tr>\n",
       "    <tr>\n",
       "        <td>Fun4All</td>\n",
       "    </tr>\n",
       "</table>"
      ],
      "text/plain": [
       "[('Village Toys',),\n",
       " ('Toy Land',),\n",
       " ('The Toy Store',),\n",
       " ('Kids Place',),\n",
       " ('Fun4All',),\n",
       " ('Fun4All',)]"
      ]
     },
     "execution_count": 20,
     "metadata": {},
     "output_type": "execute_result"
    }
   ],
   "source": [
    "%sql SELECT cust_name FROM Customers ORDER BY cust_name DESC;"
   ]
  },
  {
   "cell_type": "code",
   "execution_count": 22,
   "metadata": {},
   "outputs": [
    {
     "name": "stdout",
     "output_type": "stream",
     "text": [
      " * sqlite:///TYSQL.sqlite\n",
      "Done.\n"
     ]
    },
    {
     "data": {
      "text/html": [
       "<table>\n",
       "    <tr>\n",
       "        <th>cust_id</th>\n",
       "        <th>order_num</th>\n",
       "    </tr>\n",
       "    <tr>\n",
       "        <td>1000000005</td>\n",
       "        <td>20008</td>\n",
       "    </tr>\n",
       "    <tr>\n",
       "        <td>1000000004</td>\n",
       "        <td>20007</td>\n",
       "    </tr>\n",
       "    <tr>\n",
       "        <td>1000000003</td>\n",
       "        <td>20006</td>\n",
       "    </tr>\n",
       "    <tr>\n",
       "        <td>1000000001</td>\n",
       "        <td>20005</td>\n",
       "    </tr>\n",
       "    <tr>\n",
       "        <td>1000000001</td>\n",
       "        <td>20009</td>\n",
       "    </tr>\n",
       "</table>"
      ],
      "text/plain": [
       "[('1000000005', 20008),\n",
       " ('1000000004', 20007),\n",
       " ('1000000003', 20006),\n",
       " ('1000000001', 20005),\n",
       " ('1000000001', 20009)]"
      ]
     },
     "execution_count": 22,
     "metadata": {},
     "output_type": "execute_result"
    }
   ],
   "source": [
    "%sql SELECT cust_id, order_num FROM Orders ORDER BY cust_id, order_date DESC;"
   ]
  },
  {
   "cell_type": "code",
   "execution_count": 25,
   "metadata": {},
   "outputs": [
    {
     "name": "stdout",
     "output_type": "stream",
     "text": [
      " * sqlite:///TYSQL.sqlite\n",
      "Done.\n"
     ]
    },
    {
     "data": {
      "text/html": [
       "<table>\n",
       "    <tr>\n",
       "        <th>quantity</th>\n",
       "        <th>item_price</th>\n",
       "    </tr>\n",
       "    <tr>\n",
       "        <td>250</td>\n",
       "        <td>2.49</td>\n",
       "    </tr>\n",
       "    <tr>\n",
       "        <td>250</td>\n",
       "        <td>2.49</td>\n",
       "    </tr>\n",
       "    <tr>\n",
       "        <td>250</td>\n",
       "        <td>2.49</td>\n",
       "    </tr>\n",
       "    <tr>\n",
       "        <td>100</td>\n",
       "        <td>10.99</td>\n",
       "    </tr>\n",
       "    <tr>\n",
       "        <td>100</td>\n",
       "        <td>5.49</td>\n",
       "    </tr>\n",
       "    <tr>\n",
       "        <td>100</td>\n",
       "        <td>2.99</td>\n",
       "    </tr>\n",
       "    <tr>\n",
       "        <td>100</td>\n",
       "        <td>2.99</td>\n",
       "    </tr>\n",
       "    <tr>\n",
       "        <td>100</td>\n",
       "        <td>2.99</td>\n",
       "    </tr>\n",
       "    <tr>\n",
       "        <td>50</td>\n",
       "        <td>11.49</td>\n",
       "    </tr>\n",
       "    <tr>\n",
       "        <td>50</td>\n",
       "        <td>4.49</td>\n",
       "    </tr>\n",
       "    <tr>\n",
       "        <td>20</td>\n",
       "        <td>5.99</td>\n",
       "    </tr>\n",
       "    <tr>\n",
       "        <td>10</td>\n",
       "        <td>11.99</td>\n",
       "    </tr>\n",
       "    <tr>\n",
       "        <td>10</td>\n",
       "        <td>8.99</td>\n",
       "    </tr>\n",
       "    <tr>\n",
       "        <td>10</td>\n",
       "        <td>3.49</td>\n",
       "    </tr>\n",
       "    <tr>\n",
       "        <td>10</td>\n",
       "        <td>3.49</td>\n",
       "    </tr>\n",
       "    <tr>\n",
       "        <td>10</td>\n",
       "        <td>3.49</td>\n",
       "    </tr>\n",
       "    <tr>\n",
       "        <td>5</td>\n",
       "        <td>11.99</td>\n",
       "    </tr>\n",
       "    <tr>\n",
       "        <td>5</td>\n",
       "        <td>4.99</td>\n",
       "    </tr>\n",
       "</table>"
      ],
      "text/plain": [
       "[(250, 2.49),\n",
       " (250, 2.49),\n",
       " (250, 2.49),\n",
       " (100, 10.99),\n",
       " (100, 5.49),\n",
       " (100, 2.99),\n",
       " (100, 2.99),\n",
       " (100, 2.99),\n",
       " (50, 11.49),\n",
       " (50, 4.49),\n",
       " (20, 5.99),\n",
       " (10, 11.99),\n",
       " (10, 8.99),\n",
       " (10, 3.49),\n",
       " (10, 3.49),\n",
       " (10, 3.49),\n",
       " (5, 11.99),\n",
       " (5, 4.99)]"
      ]
     },
     "execution_count": 25,
     "metadata": {},
     "output_type": "execute_result"
    }
   ],
   "source": [
    "%sql SELECT quantity, item_price FROM OrderItems ORDER BY quantity DESC, item_price DESC;"
   ]
  },
  {
   "cell_type": "code",
   "execution_count": 28,
   "metadata": {},
   "outputs": [
    {
     "name": "stdout",
     "output_type": "stream",
     "text": [
      " * sqlite:///TYSQL.sqlite\n",
      "Done.\n"
     ]
    },
    {
     "data": {
      "text/html": [
       "<table>\n",
       "    <tr>\n",
       "        <th>prod_id</th>\n",
       "        <th>prod_name</th>\n",
       "    </tr>\n",
       "    <tr>\n",
       "        <td>RYL01</td>\n",
       "        <td>King doll</td>\n",
       "    </tr>\n",
       "    <tr>\n",
       "        <td>RYL02</td>\n",
       "        <td>Queen doll</td>\n",
       "    </tr>\n",
       "</table>"
      ],
      "text/plain": [
       "[('RYL01', 'King doll'), ('RYL02', 'Queen doll')]"
      ]
     },
     "execution_count": 28,
     "metadata": {},
     "output_type": "execute_result"
    }
   ],
   "source": [
    "%sql SELECT prod_id, prod_name FROM Products WHERE prod_price=9.49;"
   ]
  },
  {
   "cell_type": "code",
   "execution_count": 30,
   "metadata": {},
   "outputs": [
    {
     "name": "stdout",
     "output_type": "stream",
     "text": [
      " * sqlite:///TYSQL.sqlite\n",
      "Done.\n"
     ]
    },
    {
     "data": {
      "text/html": [
       "<table>\n",
       "    <tr>\n",
       "        <th>order_num</th>\n",
       "    </tr>\n",
       "    <tr>\n",
       "        <td>20005</td>\n",
       "    </tr>\n",
       "    <tr>\n",
       "        <td>20007</td>\n",
       "    </tr>\n",
       "    <tr>\n",
       "        <td>20009</td>\n",
       "    </tr>\n",
       "</table>"
      ],
      "text/plain": [
       "[(20005,), (20007,), (20009,)]"
      ]
     },
     "execution_count": 30,
     "metadata": {},
     "output_type": "execute_result"
    }
   ],
   "source": [
    "%sql SELECT DISTINCT order_num FROM OrderItems WHERE quantity >= 100;"
   ]
  },
  {
   "cell_type": "code",
   "execution_count": 33,
   "metadata": {},
   "outputs": [
    {
     "name": "stdout",
     "output_type": "stream",
     "text": [
      " * sqlite:///TYSQL.sqlite\n",
      "Done.\n"
     ]
    },
    {
     "data": {
      "text/html": [
       "<table>\n",
       "    <tr>\n",
       "        <th>prod_name</th>\n",
       "        <th>prod_price</th>\n",
       "    </tr>\n",
       "    <tr>\n",
       "        <td>Fish bean bag toy</td>\n",
       "        <td>3.49</td>\n",
       "    </tr>\n",
       "    <tr>\n",
       "        <td>Bird bean bag toy</td>\n",
       "        <td>3.49</td>\n",
       "    </tr>\n",
       "    <tr>\n",
       "        <td>Rabbit bean bag toy</td>\n",
       "        <td>3.49</td>\n",
       "    </tr>\n",
       "    <tr>\n",
       "        <td>Raggedy Ann</td>\n",
       "        <td>4.99</td>\n",
       "    </tr>\n",
       "    <tr>\n",
       "        <td>8 inch teddy bear</td>\n",
       "        <td>5.99</td>\n",
       "    </tr>\n",
       "</table>"
      ],
      "text/plain": [
       "[('Fish bean bag toy', 3.49),\n",
       " ('Bird bean bag toy', 3.49),\n",
       " ('Rabbit bean bag toy', 3.49),\n",
       " ('Raggedy Ann', 4.99),\n",
       " ('8 inch teddy bear', 5.99)]"
      ]
     },
     "execution_count": 33,
     "metadata": {},
     "output_type": "execute_result"
    }
   ],
   "source": [
    "%sql SELECT prod_name, prod_price FROM Products WHERE prod_price BETWEEN 3 AND 6 ORDER BY prod_price;"
   ]
  },
  {
   "cell_type": "code",
   "execution_count": 40,
   "metadata": {},
   "outputs": [
    {
     "name": "stdout",
     "output_type": "stream",
     "text": [
      " * sqlite:///TYSQL.sqlite\n",
      "Done.\n"
     ]
    },
    {
     "data": {
      "text/html": [
       "<table>\n",
       "    <tr>\n",
       "        <th>vend_name</th>\n",
       "    </tr>\n",
       "    <tr>\n",
       "        <td>Doll House Inc.</td>\n",
       "    </tr>\n",
       "</table>"
      ],
      "text/plain": [
       "[('Doll House Inc.',)]"
      ]
     },
     "execution_count": 40,
     "metadata": {},
     "output_type": "execute_result"
    }
   ],
   "source": [
    "%sql SELECT vend_name FROM Vendors WHERE vend_state = 'CA' AND vend_country = 'USA'"
   ]
  },
  {
   "cell_type": "code",
   "execution_count": 35,
   "metadata": {},
   "outputs": [
    {
     "name": "stdout",
     "output_type": "stream",
     "text": [
      " * sqlite:///TYSQL.sqlite\n",
      "Done.\n"
     ]
    },
    {
     "data": {
      "text/html": [
       "<table>\n",
       "    <tr>\n",
       "        <th>vend_id</th>\n",
       "        <th>vend_name</th>\n",
       "        <th>vend_address</th>\n",
       "        <th>vend_city</th>\n",
       "        <th>vend_state</th>\n",
       "        <th>vend_zip</th>\n",
       "        <th>vend_country</th>\n",
       "    </tr>\n",
       "    <tr>\n",
       "        <td>BRS01</td>\n",
       "        <td>Bears R Us</td>\n",
       "        <td>123 Main Street</td>\n",
       "        <td>Bear Town</td>\n",
       "        <td>MI</td>\n",
       "        <td>44444</td>\n",
       "        <td>USA</td>\n",
       "    </tr>\n",
       "</table>"
      ],
      "text/plain": [
       "[('BRS01', 'Bears R Us', '123 Main Street', 'Bear Town', 'MI', '44444', 'USA')]"
      ]
     },
     "execution_count": 35,
     "metadata": {},
     "output_type": "execute_result"
    }
   ],
   "source": [
    "%sql SELECT * FROM Vendors LIMIT 1;"
   ]
  },
  {
   "cell_type": "code",
   "execution_count": 41,
   "metadata": {},
   "outputs": [
    {
     "name": "stdout",
     "output_type": "stream",
     "text": [
      " * sqlite:///TYSQL.sqlite\n",
      "Done.\n"
     ]
    },
    {
     "data": {
      "text/html": [
       "<table>\n",
       "    <tr>\n",
       "        <th>order_num</th>\n",
       "        <th>prod_id</th>\n",
       "        <th>quantity</th>\n",
       "    </tr>\n",
       "    <tr>\n",
       "        <td>20005</td>\n",
       "        <td>BR01</td>\n",
       "        <td>100</td>\n",
       "    </tr>\n",
       "    <tr>\n",
       "        <td>20005</td>\n",
       "        <td>BR03</td>\n",
       "        <td>100</td>\n",
       "    </tr>\n",
       "</table>"
      ],
      "text/plain": [
       "[(20005, 'BR01', 100), (20005, 'BR03', 100)]"
      ]
     },
     "execution_count": 41,
     "metadata": {},
     "output_type": "execute_result"
    }
   ],
   "source": [
    "%sql SELECT order_num, prod_id, quantity FROM OrderItems WHERE quantity >= 100 AND prod_id IN ('BR01','BR02','BR03')"
   ]
  },
  {
   "cell_type": "code",
   "execution_count": 43,
   "metadata": {},
   "outputs": [
    {
     "name": "stdout",
     "output_type": "stream",
     "text": [
      " * sqlite:///TYSQL.sqlite\n",
      "Done.\n"
     ]
    },
    {
     "data": {
      "text/html": [
       "<table>\n",
       "    <tr>\n",
       "        <th>prod_name</th>\n",
       "        <th>prod_price</th>\n",
       "    </tr>\n",
       "    <tr>\n",
       "        <td>Fish bean bag toy</td>\n",
       "        <td>3.49</td>\n",
       "    </tr>\n",
       "    <tr>\n",
       "        <td>Bird bean bag toy</td>\n",
       "        <td>3.49</td>\n",
       "    </tr>\n",
       "    <tr>\n",
       "        <td>Rabbit bean bag toy</td>\n",
       "        <td>3.49</td>\n",
       "    </tr>\n",
       "    <tr>\n",
       "        <td>Raggedy Ann</td>\n",
       "        <td>4.99</td>\n",
       "    </tr>\n",
       "    <tr>\n",
       "        <td>8 inch teddy bear</td>\n",
       "        <td>5.99</td>\n",
       "    </tr>\n",
       "</table>"
      ],
      "text/plain": [
       "[('Fish bean bag toy', 3.49),\n",
       " ('Bird bean bag toy', 3.49),\n",
       " ('Rabbit bean bag toy', 3.49),\n",
       " ('Raggedy Ann', 4.99),\n",
       " ('8 inch teddy bear', 5.99)]"
      ]
     },
     "execution_count": 43,
     "metadata": {},
     "output_type": "execute_result"
    }
   ],
   "source": [
    "%sql SELECT prod_name, prod_price FROM Products WHERE prod_price >= 3 AND prod_price < 6 ORDER BY prod_price;"
   ]
  },
  {
   "cell_type": "code",
   "execution_count": 45,
   "metadata": {},
   "outputs": [
    {
     "name": "stdout",
     "output_type": "stream",
     "text": [
      " * sqlite:///TYSQL.sqlite\n",
      "Done.\n"
     ]
    },
    {
     "data": {
      "text/html": [
       "<table>\n",
       "    <tr>\n",
       "        <th>prod_name</th>\n",
       "        <th>prod_desc</th>\n",
       "    </tr>\n",
       "    <tr>\n",
       "        <td>Fish bean bag toy</td>\n",
       "        <td>Fish bean bag toy, complete with bean bag worms with which to feed it</td>\n",
       "    </tr>\n",
       "    <tr>\n",
       "        <td>Bird bean bag toy</td>\n",
       "        <td>Bird bean bag toy, eggs are not included</td>\n",
       "    </tr>\n",
       "    <tr>\n",
       "        <td>Rabbit bean bag toy</td>\n",
       "        <td>Rabbit bean bag toy, comes with bean bag carrots</td>\n",
       "    </tr>\n",
       "</table>"
      ],
      "text/plain": [
       "[('Fish bean bag toy', 'Fish bean bag toy, complete with bean bag worms with which to feed it'),\n",
       " ('Bird bean bag toy', 'Bird bean bag toy, eggs are not included'),\n",
       " ('Rabbit bean bag toy', 'Rabbit bean bag toy, comes with bean bag carrots')]"
      ]
     },
     "execution_count": 45,
     "metadata": {},
     "output_type": "execute_result"
    }
   ],
   "source": [
    "%sql SELECT prod_name, prod_desc FROM Products WHERE prod_desc LIKE '%toy%';"
   ]
  },
  {
   "cell_type": "code",
   "execution_count": 51,
   "metadata": {},
   "outputs": [
    {
     "name": "stdout",
     "output_type": "stream",
     "text": [
      " * sqlite:///TYSQL.sqlite\n",
      "Done.\n"
     ]
    },
    {
     "data": {
      "text/html": [
       "<table>\n",
       "    <tr>\n",
       "        <th>prod_name</th>\n",
       "        <th>prod_desc</th>\n",
       "    </tr>\n",
       "    <tr>\n",
       "        <td>12 inch teddy bear</td>\n",
       "        <td>12 inch teddy bear, comes with cap and jacket</td>\n",
       "    </tr>\n",
       "    <tr>\n",
       "        <td>18 inch teddy bear</td>\n",
       "        <td>18 inch teddy bear, comes with cap and jacket</td>\n",
       "    </tr>\n",
       "    <tr>\n",
       "        <td>8 inch teddy bear</td>\n",
       "        <td>8 inch teddy bear, comes with cap and jacket</td>\n",
       "    </tr>\n",
       "    <tr>\n",
       "        <td>King doll</td>\n",
       "        <td>12 inch king doll with royal garments and crown</td>\n",
       "    </tr>\n",
       "    <tr>\n",
       "        <td>Queen doll</td>\n",
       "        <td>12 inch queen doll with royal garments and crown</td>\n",
       "    </tr>\n",
       "    <tr>\n",
       "        <td>Raggedy Ann</td>\n",
       "        <td>18 inch Raggedy Ann doll</td>\n",
       "    </tr>\n",
       "</table>"
      ],
      "text/plain": [
       "[('12 inch teddy bear', '12 inch teddy bear, comes with cap and jacket'),\n",
       " ('18 inch teddy bear', '18 inch teddy bear, comes with cap and jacket'),\n",
       " ('8 inch teddy bear', '8 inch teddy bear, comes with cap and jacket'),\n",
       " ('King doll', '12 inch king doll with royal garments and crown'),\n",
       " ('Queen doll', '12 inch queen doll with royal garments and crown'),\n",
       " ('Raggedy Ann', '18 inch Raggedy Ann doll')]"
      ]
     },
     "execution_count": 51,
     "metadata": {},
     "output_type": "execute_result"
    }
   ],
   "source": [
    "%sql SELECT prod_name, prod_desc FROM Products WHERE NOT prod_desc LIKE '%toy%' ORDER BY prod_name;"
   ]
  },
  {
   "cell_type": "code",
   "execution_count": 49,
   "metadata": {},
   "outputs": [
    {
     "name": "stdout",
     "output_type": "stream",
     "text": [
      " * sqlite:///TYSQL.sqlite\n",
      "Done.\n"
     ]
    },
    {
     "data": {
      "text/html": [
       "<table>\n",
       "    <tr>\n",
       "        <th>prod_name</th>\n",
       "        <th>prod_desc</th>\n",
       "    </tr>\n",
       "    <tr>\n",
       "        <td>Rabbit bean bag toy</td>\n",
       "        <td>Rabbit bean bag toy, comes with bean bag carrots</td>\n",
       "    </tr>\n",
       "</table>"
      ],
      "text/plain": [
       "[('Rabbit bean bag toy', 'Rabbit bean bag toy, comes with bean bag carrots')]"
      ]
     },
     "execution_count": 49,
     "metadata": {},
     "output_type": "execute_result"
    }
   ],
   "source": [
    "%sql SELECT prod_name, prod_desc FROM Products WHERE prod_desc LIKE '%toy%' AND prod_desc LIKE '%carrots%'"
   ]
  },
  {
   "cell_type": "code",
   "execution_count": 50,
   "metadata": {},
   "outputs": [
    {
     "name": "stdout",
     "output_type": "stream",
     "text": [
      " * sqlite:///TYSQL.sqlite\n",
      "Done.\n"
     ]
    },
    {
     "data": {
      "text/html": [
       "<table>\n",
       "    <tr>\n",
       "        <th>prod_name</th>\n",
       "        <th>prod_desc</th>\n",
       "    </tr>\n",
       "    <tr>\n",
       "        <td>Rabbit bean bag toy</td>\n",
       "        <td>Rabbit bean bag toy, comes with bean bag carrots</td>\n",
       "    </tr>\n",
       "</table>"
      ],
      "text/plain": [
       "[('Rabbit bean bag toy', 'Rabbit bean bag toy, comes with bean bag carrots')]"
      ]
     },
     "execution_count": 50,
     "metadata": {},
     "output_type": "execute_result"
    }
   ],
   "source": [
    "%sql SELECT prod_name, prod_desc FROM Products WHERE prod_desc LIKE '%toy%carrots%';"
   ]
  },
  {
   "cell_type": "code",
   "execution_count": 53,
   "metadata": {},
   "outputs": [
    {
     "name": "stdout",
     "output_type": "stream",
     "text": [
      " * sqlite:///TYSQL.sqlite\n",
      "(sqlite3.OperationalError) no such function: Curdate\n",
      "[SQL: SELECT Curdate();]\n",
      "(Background on this error at: http://sqlalche.me/e/e3q8)\n"
     ]
    }
   ],
   "source": [
    "%sql SELECT Curdate();"
   ]
  },
  {
   "cell_type": "code",
   "execution_count": 55,
   "metadata": {},
   "outputs": [
    {
     "name": "stdout",
     "output_type": "stream",
     "text": [
      " * sqlite:///TYSQL.sqlite\n",
      "Done.\n"
     ]
    },
    {
     "data": {
      "text/html": [
       "<table>\n",
       "    <tr>\n",
       "        <th>vend_id</th>\n",
       "        <th>vname</th>\n",
       "        <th>vend_address</th>\n",
       "        <th>vcity</th>\n",
       "    </tr>\n",
       "    <tr>\n",
       "        <td>BRE02</td>\n",
       "        <td>Bear Emporium</td>\n",
       "        <td>500 Park Street</td>\n",
       "        <td>Anytown</td>\n",
       "    </tr>\n",
       "    <tr>\n",
       "        <td>BRS01</td>\n",
       "        <td>Bears R Us</td>\n",
       "        <td>123 Main Street</td>\n",
       "        <td>Bear Town</td>\n",
       "    </tr>\n",
       "    <tr>\n",
       "        <td>DLL01</td>\n",
       "        <td>Doll House Inc.</td>\n",
       "        <td>555 High Street</td>\n",
       "        <td>Dollsville</td>\n",
       "    </tr>\n",
       "    <tr>\n",
       "        <td>FNG01</td>\n",
       "        <td>Fun and Games</td>\n",
       "        <td>42 Galaxy Road</td>\n",
       "        <td>London</td>\n",
       "    </tr>\n",
       "    <tr>\n",
       "        <td>FRB01</td>\n",
       "        <td>Furball Inc.</td>\n",
       "        <td>1000 5th Avenue</td>\n",
       "        <td>New York</td>\n",
       "    </tr>\n",
       "    <tr>\n",
       "        <td>JTS01</td>\n",
       "        <td>Jouets et ours</td>\n",
       "        <td>1 Rue Amusement</td>\n",
       "        <td>Paris</td>\n",
       "    </tr>\n",
       "</table>"
      ],
      "text/plain": [
       "[('BRE02', 'Bear Emporium', '500 Park Street', 'Anytown'),\n",
       " ('BRS01', 'Bears R Us', '123 Main Street', 'Bear Town'),\n",
       " ('DLL01', 'Doll House Inc.', '555 High Street', 'Dollsville'),\n",
       " ('FNG01', 'Fun and Games', '42 Galaxy Road', 'London'),\n",
       " ('FRB01', 'Furball Inc.', '1000 5th Avenue', 'New York'),\n",
       " ('JTS01', 'Jouets et ours', '1 Rue Amusement', 'Paris')]"
      ]
     },
     "execution_count": 55,
     "metadata": {},
     "output_type": "execute_result"
    }
   ],
   "source": [
    "%sql SELECT vend_id, vend_name AS vname, vend_address, vend_city AS vcity FROM Vendors ORDER BY vname;"
   ]
  },
  {
   "cell_type": "code",
   "execution_count": 61,
   "metadata": {},
   "outputs": [
    {
     "name": "stdout",
     "output_type": "stream",
     "text": [
      " * sqlite:///TYSQL.sqlite\n",
      "Done.\n"
     ]
    },
    {
     "data": {
      "text/html": [
       "<table>\n",
       "    <tr>\n",
       "        <th>prod_id</th>\n",
       "        <th>prod_price</th>\n",
       "        <th>sale_price</th>\n",
       "    </tr>\n",
       "    <tr>\n",
       "        <td>BR01</td>\n",
       "        <td>5.99</td>\n",
       "        <td>5.39</td>\n",
       "    </tr>\n",
       "    <tr>\n",
       "        <td>BR02</td>\n",
       "        <td>8.99</td>\n",
       "        <td>8.09</td>\n",
       "    </tr>\n",
       "    <tr>\n",
       "        <td>BR03</td>\n",
       "        <td>11.99</td>\n",
       "        <td>10.79</td>\n",
       "    </tr>\n",
       "    <tr>\n",
       "        <td>BNBG01</td>\n",
       "        <td>3.49</td>\n",
       "        <td>3.14</td>\n",
       "    </tr>\n",
       "    <tr>\n",
       "        <td>BNBG02</td>\n",
       "        <td>3.49</td>\n",
       "        <td>3.14</td>\n",
       "    </tr>\n",
       "    <tr>\n",
       "        <td>BNBG03</td>\n",
       "        <td>3.49</td>\n",
       "        <td>3.14</td>\n",
       "    </tr>\n",
       "    <tr>\n",
       "        <td>RGAN01</td>\n",
       "        <td>4.99</td>\n",
       "        <td>4.49</td>\n",
       "    </tr>\n",
       "    <tr>\n",
       "        <td>RYL01</td>\n",
       "        <td>9.49</td>\n",
       "        <td>8.54</td>\n",
       "    </tr>\n",
       "    <tr>\n",
       "        <td>RYL02</td>\n",
       "        <td>9.49</td>\n",
       "        <td>8.54</td>\n",
       "    </tr>\n",
       "</table>"
      ],
      "text/plain": [
       "[('BR01', 5.99, 5.39),\n",
       " ('BR02', 8.99, 8.09),\n",
       " ('BR03', 11.99, 10.79),\n",
       " ('BNBG01', 3.49, 3.14),\n",
       " ('BNBG02', 3.49, 3.14),\n",
       " ('BNBG03', 3.49, 3.14),\n",
       " ('RGAN01', 4.99, 4.49),\n",
       " ('RYL01', 9.49, 8.54),\n",
       " ('RYL02', 9.49, 8.54)]"
      ]
     },
     "execution_count": 61,
     "metadata": {},
     "output_type": "execute_result"
    }
   ],
   "source": [
    "%sql SELECT prod_id, prod_price, ROUND(0.9*prod_price,2) AS sale_price FROM Products;"
   ]
  },
  {
   "cell_type": "code",
   "execution_count": 66,
   "metadata": {},
   "outputs": [
    {
     "name": "stdout",
     "output_type": "stream",
     "text": [
      " * sqlite:///TYSQL.sqlite\n",
      "Done.\n"
     ]
    },
    {
     "data": {
      "text/html": [
       "<table>\n",
       "    <tr>\n",
       "        <th>DATE()</th>\n",
       "    </tr>\n",
       "    <tr>\n",
       "        <td>2020-10-21</td>\n",
       "    </tr>\n",
       "</table>"
      ],
      "text/plain": [
       "[('2020-10-21',)]"
      ]
     },
     "execution_count": 66,
     "metadata": {},
     "output_type": "execute_result"
    }
   ],
   "source": [
    "%sql SELECT DATE()"
   ]
  },
  {
   "cell_type": "code",
   "execution_count": 77,
   "metadata": {},
   "outputs": [
    {
     "name": "stdout",
     "output_type": "stream",
     "text": [
      " * sqlite:///TYSQL.sqlite\n",
      "Done.\n"
     ]
    },
    {
     "data": {
      "text/html": [
       "<table>\n",
       "    <tr>\n",
       "        <th>cust_id</th>\n",
       "        <th>cust_name</th>\n",
       "        <th>cust_contact</th>\n",
       "        <th>cust_city</th>\n",
       "        <th>user_login</th>\n",
       "    </tr>\n",
       "    <tr>\n",
       "        <td>1000000001</td>\n",
       "        <td>Village Toys</td>\n",
       "        <td>John Smith</td>\n",
       "        <td>Detroit</td>\n",
       "        <td>JODET</td>\n",
       "    </tr>\n",
       "    <tr>\n",
       "        <td>1000000002</td>\n",
       "        <td>Kids Place</td>\n",
       "        <td>Michelle Green</td>\n",
       "        <td>Columbus</td>\n",
       "        <td>MICOL</td>\n",
       "    </tr>\n",
       "    <tr>\n",
       "        <td>1000000003</td>\n",
       "        <td>Fun4All</td>\n",
       "        <td>Jim Jones</td>\n",
       "        <td>Muncie</td>\n",
       "        <td>JIMUN</td>\n",
       "    </tr>\n",
       "    <tr>\n",
       "        <td>1000000004</td>\n",
       "        <td>Fun4All</td>\n",
       "        <td>Denise L. Stephens</td>\n",
       "        <td>Phoenix</td>\n",
       "        <td>DEPHO</td>\n",
       "    </tr>\n",
       "    <tr>\n",
       "        <td>1000000005</td>\n",
       "        <td>The Toy Store</td>\n",
       "        <td>Kim Howard</td>\n",
       "        <td>Chicago</td>\n",
       "        <td>KICHI</td>\n",
       "    </tr>\n",
       "    <tr>\n",
       "        <td>1000000006</td>\n",
       "        <td>Toy Land</td>\n",
       "        <td>None</td>\n",
       "        <td>New York</td>\n",
       "        <td>None</td>\n",
       "    </tr>\n",
       "</table>"
      ],
      "text/plain": [
       "[('1000000001', 'Village Toys', 'John Smith', 'Detroit', 'JODET'),\n",
       " ('1000000002', 'Kids Place', 'Michelle Green', 'Columbus', 'MICOL'),\n",
       " ('1000000003', 'Fun4All', 'Jim Jones', 'Muncie', 'JIMUN'),\n",
       " ('1000000004', 'Fun4All', 'Denise L. Stephens', 'Phoenix', 'DEPHO'),\n",
       " ('1000000005', 'The Toy Store', 'Kim Howard', 'Chicago', 'KICHI'),\n",
       " ('1000000006', 'Toy Land', None, 'New York', None)]"
      ]
     },
     "execution_count": 77,
     "metadata": {},
     "output_type": "execute_result"
    }
   ],
   "source": [
    "%sql SELECT cust_id, cust_name, cust_contact, cust_city, (UPPER(SUBSTR(TRIM(cust_contact), 1,2)) || UPPER(SUBSTR(TRIM(cust_city), 1,3))) AS user_login FROM Customers;"
   ]
  },
  {
   "cell_type": "code",
   "execution_count": 92,
   "metadata": {},
   "outputs": [
    {
     "name": "stdout",
     "output_type": "stream",
     "text": [
      " * sqlite:///TYSQL.sqlite\n",
      "Done.\n"
     ]
    },
    {
     "data": {
      "text/html": [
       "<table>\n",
       "    <tr>\n",
       "        <th>order_num</th>\n",
       "        <th>order_date</th>\n",
       "    </tr>\n",
       "    <tr>\n",
       "        <td>20006</td>\n",
       "        <td>2020-01-12</td>\n",
       "    </tr>\n",
       "    <tr>\n",
       "        <td>20007</td>\n",
       "        <td>2020-01-30</td>\n",
       "    </tr>\n",
       "</table>"
      ],
      "text/plain": [
       "[(20006, '2020-01-12'), (20007, '2020-01-30')]"
      ]
     },
     "execution_count": 92,
     "metadata": {},
     "output_type": "execute_result"
    }
   ],
   "source": [
    "%sql SELECT order_num, order_date FROM Orders WHERE STRFTIME('%m', order_date) = '01' AND STRFTIME('%Y', order_date) = '2020'"
   ]
  },
  {
   "cell_type": "code",
   "execution_count": 96,
   "metadata": {},
   "outputs": [
    {
     "name": "stdout",
     "output_type": "stream",
     "text": [
      " * sqlite:///TYSQL.sqlite\n",
      "Done.\n"
     ]
    },
    {
     "data": {
      "text/html": [
       "<table>\n",
       "    <tr>\n",
       "        <th>total_items</th>\n",
       "    </tr>\n",
       "    <tr>\n",
       "        <td>1430</td>\n",
       "    </tr>\n",
       "</table>"
      ],
      "text/plain": [
       "[(1430,)]"
      ]
     },
     "execution_count": 96,
     "metadata": {},
     "output_type": "execute_result"
    }
   ],
   "source": [
    "%sql SELECT SUM(quantity) AS total_items FROM OrderItems"
   ]
  },
  {
   "cell_type": "code",
   "execution_count": 101,
   "metadata": {},
   "outputs": [
    {
     "name": "stdout",
     "output_type": "stream",
     "text": [
      " * sqlite:///TYSQL.sqlite\n",
      "Done.\n"
     ]
    },
    {
     "data": {
      "text/html": [
       "<table>\n",
       "    <tr>\n",
       "        <th>br01_total</th>\n",
       "    </tr>\n",
       "    <tr>\n",
       "        <td>120</td>\n",
       "    </tr>\n",
       "</table>"
      ],
      "text/plain": [
       "[(120,)]"
      ]
     },
     "execution_count": 101,
     "metadata": {},
     "output_type": "execute_result"
    }
   ],
   "source": [
    "%sql SELECT SUM(quantity) AS br01_total FROM OrderItems WHERE prod_id = 'BR01'"
   ]
  },
  {
   "cell_type": "code",
   "execution_count": 103,
   "metadata": {},
   "outputs": [
    {
     "name": "stdout",
     "output_type": "stream",
     "text": [
      " * sqlite:///TYSQL.sqlite\n",
      "Done.\n"
     ]
    },
    {
     "data": {
      "text/html": [
       "<table>\n",
       "    <tr>\n",
       "        <th>max_price</th>\n",
       "    </tr>\n",
       "    <tr>\n",
       "        <td>9.49</td>\n",
       "    </tr>\n",
       "</table>"
      ],
      "text/plain": [
       "[(9.49,)]"
      ]
     },
     "execution_count": 103,
     "metadata": {},
     "output_type": "execute_result"
    }
   ],
   "source": [
    "%sql SELECT MAX(prod_price) AS max_price FROM Products WHERE prod_price <= 10"
   ]
  },
  {
   "cell_type": "code",
   "execution_count": 108,
   "metadata": {},
   "outputs": [
    {
     "name": "stdout",
     "output_type": "stream",
     "text": [
      " * sqlite:///TYSQL.sqlite\n",
      "Done.\n"
     ]
    },
    {
     "data": {
      "text/html": [
       "<table>\n",
       "    <tr>\n",
       "        <th>prod_name</th>\n",
       "        <th>cnts</th>\n",
       "    </tr>\n",
       "    <tr>\n",
       "        <td>8 inch teddy bear</td>\n",
       "        <td>3</td>\n",
       "    </tr>\n",
       "    <tr>\n",
       "        <td>Fish bean bag toy</td>\n",
       "        <td>4</td>\n",
       "    </tr>\n",
       "    <tr>\n",
       "        <td>King doll</td>\n",
       "        <td>2</td>\n",
       "    </tr>\n",
       "</table>"
      ],
      "text/plain": [
       "[('8 inch teddy bear', 3), ('Fish bean bag toy', 4), ('King doll', 2)]"
      ]
     },
     "execution_count": 108,
     "metadata": {},
     "output_type": "execute_result"
    }
   ],
   "source": [
    "%sql SELECT prod_name, COUNT(*) AS cnts FROM Products GROUP BY vend_id HAVING prod_name LIKE '%';"
   ]
  },
  {
   "cell_type": "code",
   "execution_count": 110,
   "metadata": {},
   "outputs": [
    {
     "name": "stdout",
     "output_type": "stream",
     "text": [
      " * sqlite:///TYSQL.sqlite\n",
      "Done.\n"
     ]
    },
    {
     "data": {
      "text/html": [
       "<table>\n",
       "    <tr>\n",
       "        <th>order_lines</th>\n",
       "    </tr>\n",
       "    <tr>\n",
       "        <td>2</td>\n",
       "    </tr>\n",
       "    <tr>\n",
       "        <td>3</td>\n",
       "    </tr>\n",
       "    <tr>\n",
       "        <td>3</td>\n",
       "    </tr>\n",
       "    <tr>\n",
       "        <td>5</td>\n",
       "    </tr>\n",
       "    <tr>\n",
       "        <td>5</td>\n",
       "    </tr>\n",
       "</table>"
      ],
      "text/plain": [
       "[(2,), (3,), (3,), (5,), (5,)]"
      ]
     },
     "execution_count": 110,
     "metadata": {},
     "output_type": "execute_result"
    }
   ],
   "source": [
    "%sql SELECT COUNT(*) AS order_lines FROM OrderItems GROUP BY order_num ORDER BY order_lines"
   ]
  },
  {
   "cell_type": "code",
   "execution_count": 126,
   "metadata": {},
   "outputs": [
    {
     "name": "stdout",
     "output_type": "stream",
     "text": [
      " * sqlite:///TYSQL.sqlite\n",
      "Done.\n"
     ]
    },
    {
     "data": {
      "text/html": [
       "<table>\n",
       "    <tr>\n",
       "        <th>vend_id</th>\n",
       "        <th>cheapest_item</th>\n",
       "    </tr>\n",
       "    <tr>\n",
       "        <td>DLL01</td>\n",
       "        <td>3.49</td>\n",
       "    </tr>\n",
       "    <tr>\n",
       "        <td>BRS01</td>\n",
       "        <td>5.99</td>\n",
       "    </tr>\n",
       "    <tr>\n",
       "        <td>FNG01</td>\n",
       "        <td>9.49</td>\n",
       "    </tr>\n",
       "</table>"
      ],
      "text/plain": [
       "[('DLL01', 3.49), ('BRS01', 5.99), ('FNG01', 9.49)]"
      ]
     },
     "execution_count": 126,
     "metadata": {},
     "output_type": "execute_result"
    }
   ],
   "source": [
    "%sql SELECT vend_id, MIN(prod_price) AS cheapest_item FROM Products GROUP BY vend_id ORDER BY cheapest_item;"
   ]
  },
  {
   "cell_type": "code",
   "execution_count": 125,
   "metadata": {},
   "outputs": [
    {
     "name": "stdout",
     "output_type": "stream",
     "text": [
      " * sqlite:///TYSQL.sqlite\n",
      "Done.\n"
     ]
    },
    {
     "data": {
      "text/html": [
       "<table>\n",
       "    <tr>\n",
       "        <th>order_num</th>\n",
       "        <th>cnt</th>\n",
       "    </tr>\n",
       "    <tr>\n",
       "        <td>20005</td>\n",
       "        <td>2</td>\n",
       "    </tr>\n",
       "    <tr>\n",
       "        <td>20009</td>\n",
       "        <td>3</td>\n",
       "    </tr>\n",
       "    <tr>\n",
       "        <td>20007</td>\n",
       "        <td>5</td>\n",
       "    </tr>\n",
       "</table>"
      ],
      "text/plain": [
       "[(20005, 2), (20009, 3), (20007, 5)]"
      ]
     },
     "execution_count": 125,
     "metadata": {},
     "output_type": "execute_result"
    }
   ],
   "source": [
    "%sql SELECT order_num, COUNT(*) AS cnt FROM OrderItems GROUP BY order_num HAVING SUM(quantity) >= 100 ORDER BY cnt;"
   ]
  },
  {
   "cell_type": "code",
   "execution_count": 124,
   "metadata": {},
   "outputs": [
    {
     "name": "stdout",
     "output_type": "stream",
     "text": [
      " * sqlite:///TYSQL.sqlite\n",
      "Done.\n"
     ]
    },
    {
     "data": {
      "text/html": [
       "<table>\n",
       "    <tr>\n",
       "        <th>order_num</th>\n",
       "        <th>total</th>\n",
       "    </tr>\n",
       "    <tr>\n",
       "        <td>20005</td>\n",
       "        <td>1648.0</td>\n",
       "    </tr>\n",
       "    <tr>\n",
       "        <td>20007</td>\n",
       "        <td>1696.0</td>\n",
       "    </tr>\n",
       "    <tr>\n",
       "        <td>20009</td>\n",
       "        <td>1867.5</td>\n",
       "    </tr>\n",
       "</table>"
      ],
      "text/plain": [
       "[(20005, 1648.0), (20007, 1696.0), (20009, 1867.5)]"
      ]
     },
     "execution_count": 124,
     "metadata": {},
     "output_type": "execute_result"
    }
   ],
   "source": [
    "%sql SELECT order_num, ROUND(SUM(quantity * item_price), 2) AS total FROM OrderItems GROUP BY order_num HAVING total >= 1000 ORDER BY order_num;"
   ]
  },
  {
   "cell_type": "code",
   "execution_count": 118,
   "metadata": {},
   "outputs": [
    {
     "name": "stdout",
     "output_type": "stream",
     "text": [
      " * sqlite:///TYSQL.sqlite\n",
      "Done.\n"
     ]
    },
    {
     "data": {
      "text/html": [
       "<table>\n",
       "    <tr>\n",
       "        <th>order_num</th>\n",
       "        <th>order_item</th>\n",
       "        <th>prod_id</th>\n",
       "        <th>quantity</th>\n",
       "        <th>item_price</th>\n",
       "    </tr>\n",
       "    <tr>\n",
       "        <td>20005</td>\n",
       "        <td>1</td>\n",
       "        <td>BR01</td>\n",
       "        <td>100</td>\n",
       "        <td>5.49</td>\n",
       "    </tr>\n",
       "</table>"
      ],
      "text/plain": [
       "[(20005, 1, 'BR01', 100, 5.49)]"
      ]
     },
     "execution_count": 118,
     "metadata": {},
     "output_type": "execute_result"
    }
   ],
   "source": [
    "%sql SELECT * FROM OrderItems LIMIT 1;"
   ]
  },
  {
   "cell_type": "code",
   "execution_count": 4,
   "metadata": {},
   "outputs": [
    {
     "data": {
      "text/plain": [
       "0.44903225806451613"
      ]
     },
     "execution_count": 4,
     "metadata": {},
     "output_type": "execute_result"
    }
   ],
   "source": [
    "(0.5) * (3/4) * (0.5) * (29/39)/((0.5) * (30/40) * ( (0.5) * (29/39) + (0.5) * (20/40)) + (0.5) * (10/40) * ( (0.5) * (30/40) + (0.5) * (19/39)))"
   ]
  },
  {
   "cell_type": "code",
   "execution_count": 18,
   "metadata": {},
   "outputs": [
    {
     "name": "stdout",
     "output_type": "stream",
     "text": [
      " * sqlite:///TYSQL.sqlite\n",
      "Done.\n"
     ]
    },
    {
     "data": {
      "text/html": [
       "<table>\n",
       "    <tr>\n",
       "        <th>order_num</th>\n",
       "        <th>cust_id</th>\n",
       "    </tr>\n",
       "    <tr>\n",
       "        <td>20005</td>\n",
       "        <td>1000000001</td>\n",
       "    </tr>\n",
       "    <tr>\n",
       "        <td>20006</td>\n",
       "        <td>1000000003</td>\n",
       "    </tr>\n",
       "    <tr>\n",
       "        <td>20007</td>\n",
       "        <td>1000000004</td>\n",
       "    </tr>\n",
       "    <tr>\n",
       "        <td>20008</td>\n",
       "        <td>1000000005</td>\n",
       "    </tr>\n",
       "</table>"
      ],
      "text/plain": [
       "[(20005, '1000000001'),\n",
       " (20006, '1000000003'),\n",
       " (20007, '1000000004'),\n",
       " (20008, '1000000005')]"
      ]
     },
     "execution_count": 18,
     "metadata": {},
     "output_type": "execute_result"
    }
   ],
   "source": [
    "%sql SELECT order_num, cust_id FROM Orders WHERE order_num IN (SELECT DISTINCT order_num FROM OrderItems WHERE item_price >= 10);"
   ]
  },
  {
   "cell_type": "code",
   "execution_count": 22,
   "metadata": {},
   "outputs": [
    {
     "name": "stdout",
     "output_type": "stream",
     "text": [
      " * sqlite:///TYSQL.sqlite\n",
      "Done.\n"
     ]
    },
    {
     "data": {
      "text/html": [
       "<table>\n",
       "    <tr>\n",
       "        <th>order_num</th>\n",
       "        <th>order_date</th>\n",
       "        <th>cust_id</th>\n",
       "    </tr>\n",
       "    <tr>\n",
       "        <td>20006</td>\n",
       "        <td>2020-01-12</td>\n",
       "        <td>1000000003</td>\n",
       "    </tr>\n",
       "    <tr>\n",
       "        <td>20005</td>\n",
       "        <td>2020-05-01</td>\n",
       "        <td>1000000001</td>\n",
       "    </tr>\n",
       "</table>"
      ],
      "text/plain": [
       "[(20006, '2020-01-12', '1000000003'), (20005, '2020-05-01', '1000000001')]"
      ]
     },
     "execution_count": 22,
     "metadata": {},
     "output_type": "execute_result"
    }
   ],
   "source": [
    "%sql SELECT * FROM Orders WHERE order_num IN (SELECT order_num FROM OrderItems WHERE prod_id LIKE 'BR01') ORDER BY order_date ASC;"
   ]
  },
  {
   "cell_type": "code",
   "execution_count": 24,
   "metadata": {},
   "outputs": [
    {
     "name": "stdout",
     "output_type": "stream",
     "text": [
      " * sqlite:///TYSQL.sqlite\n",
      "Done.\n"
     ]
    },
    {
     "data": {
      "text/html": [
       "<table>\n",
       "    <tr>\n",
       "        <th>cust_id</th>\n",
       "        <th>cust_name</th>\n",
       "        <th>cust_address</th>\n",
       "        <th>cust_city</th>\n",
       "        <th>cust_state</th>\n",
       "        <th>cust_zip</th>\n",
       "        <th>cust_country</th>\n",
       "        <th>cust_contact</th>\n",
       "        <th>cust_email</th>\n",
       "    </tr>\n",
       "    <tr>\n",
       "        <td>1000000001</td>\n",
       "        <td>Village Toys</td>\n",
       "        <td>200 Maple Lane</td>\n",
       "        <td>Detroit</td>\n",
       "        <td>MI</td>\n",
       "        <td>44444</td>\n",
       "        <td>USA</td>\n",
       "        <td>John Smith</td>\n",
       "        <td>sales@villagetoys.com</td>\n",
       "    </tr>\n",
       "    <tr>\n",
       "        <td>1000000002</td>\n",
       "        <td>Kids Place</td>\n",
       "        <td>333 South Lake Drive</td>\n",
       "        <td>Columbus</td>\n",
       "        <td>OH</td>\n",
       "        <td>43333</td>\n",
       "        <td>USA</td>\n",
       "        <td>Michelle Green</td>\n",
       "        <td>None</td>\n",
       "    </tr>\n",
       "</table>"
      ],
      "text/plain": [
       "[('1000000001', 'Village Toys', '200 Maple Lane', 'Detroit', 'MI', '44444', 'USA', 'John Smith', 'sales@villagetoys.com'),\n",
       " ('1000000002', 'Kids Place', '333 South Lake Drive', 'Columbus', 'OH', '43333', 'USA', 'Michelle Green', None)]"
      ]
     },
     "execution_count": 24,
     "metadata": {},
     "output_type": "execute_result"
    }
   ],
   "source": [
    "%sql SELECT * FROM Customers LIMIT 2;"
   ]
  },
  {
   "cell_type": "code",
   "execution_count": 26,
   "metadata": {},
   "outputs": [
    {
     "name": "stdout",
     "output_type": "stream",
     "text": [
      " * sqlite:///TYSQL.sqlite\n",
      "Done.\n"
     ]
    },
    {
     "data": {
      "text/html": [
       "<table>\n",
       "    <tr>\n",
       "        <th>order_num</th>\n",
       "        <th>order_date</th>\n",
       "        <th>cust_id</th>\n",
       "    </tr>\n",
       "    <tr>\n",
       "        <td>20005</td>\n",
       "        <td>2020-05-01</td>\n",
       "        <td>1000000001</td>\n",
       "    </tr>\n",
       "    <tr>\n",
       "        <td>20006</td>\n",
       "        <td>2020-01-12</td>\n",
       "        <td>1000000003</td>\n",
       "    </tr>\n",
       "    <tr>\n",
       "        <td>20007</td>\n",
       "        <td>2020-01-30</td>\n",
       "        <td>1000000004</td>\n",
       "    </tr>\n",
       "    <tr>\n",
       "        <td>20008</td>\n",
       "        <td>2020-02-03</td>\n",
       "        <td>1000000005</td>\n",
       "    </tr>\n",
       "    <tr>\n",
       "        <td>20009</td>\n",
       "        <td>2020-02-08</td>\n",
       "        <td>1000000001</td>\n",
       "    </tr>\n",
       "</table>"
      ],
      "text/plain": [
       "[(20005, '2020-05-01', '1000000001'),\n",
       " (20006, '2020-01-12', '1000000003'),\n",
       " (20007, '2020-01-30', '1000000004'),\n",
       " (20008, '2020-02-03', '1000000005'),\n",
       " (20009, '2020-02-08', '1000000001')]"
      ]
     },
     "execution_count": 26,
     "metadata": {},
     "output_type": "execute_result"
    }
   ],
   "source": [
    "%sql SELECT * FROM Orders;"
   ]
  },
  {
   "cell_type": "code",
   "execution_count": 35,
   "metadata": {},
   "outputs": [
    {
     "name": "stdout",
     "output_type": "stream",
     "text": [
      " * sqlite:///TYSQL.sqlite\n",
      "Done.\n"
     ]
    },
    {
     "data": {
      "text/html": [
       "<table>\n",
       "    <tr>\n",
       "        <th>cust_email</th>\n",
       "    </tr>\n",
       "    <tr>\n",
       "        <td>sales@villagetoys.com</td>\n",
       "    </tr>\n",
       "    <tr>\n",
       "        <td>jjones@fun4all.com</td>\n",
       "    </tr>\n",
       "</table>"
      ],
      "text/plain": [
       "[('sales@villagetoys.com',), ('jjones@fun4all.com',)]"
      ]
     },
     "execution_count": 35,
     "metadata": {},
     "output_type": "execute_result"
    }
   ],
   "source": [
    "%sql SELECT cust_email FROM Customers WHERE cust_id IN (SELECT cust_id FROM Orders WHERE order_num IN (SELECT order_num FROM OrderItems WHERE prod_id LIKE 'BR01')); "
   ]
  },
  {
   "cell_type": "code",
   "execution_count": 31,
   "metadata": {},
   "outputs": [
    {
     "name": "stdout",
     "output_type": "stream",
     "text": [
      " * sqlite:///TYSQL.sqlite\n",
      "Done.\n"
     ]
    },
    {
     "data": {
      "text/html": [
       "<table>\n",
       "    <tr>\n",
       "        <th>order_num</th>\n",
       "        <th>order_date</th>\n",
       "        <th>cust_id</th>\n",
       "    </tr>\n",
       "    <tr>\n",
       "        <td>20005</td>\n",
       "        <td>2020-05-01</td>\n",
       "        <td>1000000001</td>\n",
       "    </tr>\n",
       "    <tr>\n",
       "        <td>20006</td>\n",
       "        <td>2020-01-12</td>\n",
       "        <td>1000000003</td>\n",
       "    </tr>\n",
       "</table>"
      ],
      "text/plain": [
       "[(20005, '2020-05-01', '1000000001'), (20006, '2020-01-12', '1000000003')]"
      ]
     },
     "execution_count": 31,
     "metadata": {},
     "output_type": "execute_result"
    }
   ],
   "source": [
    "%sql SELECT * FROM Orders WHERE order_num IN (SELECT order_num FROM OrderItems WHERE prod_id LIKE 'BR01')"
   ]
  },
  {
   "cell_type": "code",
   "execution_count": 36,
   "metadata": {},
   "outputs": [
    {
     "name": "stdout",
     "output_type": "stream",
     "text": [
      " * sqlite:///TYSQL.sqlite\n",
      "Done.\n"
     ]
    },
    {
     "data": {
      "text/html": [
       "<table>\n",
       "    <tr>\n",
       "        <th>cust_id</th>\n",
       "        <th>cust_name</th>\n",
       "        <th>cust_address</th>\n",
       "        <th>cust_city</th>\n",
       "        <th>cust_state</th>\n",
       "        <th>cust_zip</th>\n",
       "        <th>cust_country</th>\n",
       "        <th>cust_contact</th>\n",
       "        <th>cust_email</th>\n",
       "    </tr>\n",
       "    <tr>\n",
       "        <td>1000000001</td>\n",
       "        <td>Village Toys</td>\n",
       "        <td>200 Maple Lane</td>\n",
       "        <td>Detroit</td>\n",
       "        <td>MI</td>\n",
       "        <td>44444</td>\n",
       "        <td>USA</td>\n",
       "        <td>John Smith</td>\n",
       "        <td>sales@villagetoys.com</td>\n",
       "    </tr>\n",
       "    <tr>\n",
       "        <td>1000000002</td>\n",
       "        <td>Kids Place</td>\n",
       "        <td>333 South Lake Drive</td>\n",
       "        <td>Columbus</td>\n",
       "        <td>OH</td>\n",
       "        <td>43333</td>\n",
       "        <td>USA</td>\n",
       "        <td>Michelle Green</td>\n",
       "        <td>None</td>\n",
       "    </tr>\n",
       "    <tr>\n",
       "        <td>1000000003</td>\n",
       "        <td>Fun4All</td>\n",
       "        <td>1 Sunny Place</td>\n",
       "        <td>Muncie</td>\n",
       "        <td>IN</td>\n",
       "        <td>42222</td>\n",
       "        <td>USA</td>\n",
       "        <td>Jim Jones</td>\n",
       "        <td>jjones@fun4all.com</td>\n",
       "    </tr>\n",
       "    <tr>\n",
       "        <td>1000000004</td>\n",
       "        <td>Fun4All</td>\n",
       "        <td>829 Riverside Drive</td>\n",
       "        <td>Phoenix</td>\n",
       "        <td>AZ</td>\n",
       "        <td>88888</td>\n",
       "        <td>USA</td>\n",
       "        <td>Denise L. Stephens</td>\n",
       "        <td>dstephens@fun4all.com</td>\n",
       "    </tr>\n",
       "    <tr>\n",
       "        <td>1000000005</td>\n",
       "        <td>The Toy Store</td>\n",
       "        <td>4545 53rd Street</td>\n",
       "        <td>Chicago</td>\n",
       "        <td>IL</td>\n",
       "        <td>54545</td>\n",
       "        <td>USA</td>\n",
       "        <td>Kim Howard</td>\n",
       "        <td>kim@thetoystore.com</td>\n",
       "    </tr>\n",
       "</table>"
      ],
      "text/plain": [
       "[('1000000001', 'Village Toys', '200 Maple Lane', 'Detroit', 'MI', '44444', 'USA', 'John Smith', 'sales@villagetoys.com'),\n",
       " ('1000000002', 'Kids Place', '333 South Lake Drive', 'Columbus', 'OH', '43333', 'USA', 'Michelle Green', None),\n",
       " ('1000000003', 'Fun4All', '1 Sunny Place', 'Muncie', 'IN', '42222', 'USA', 'Jim Jones', 'jjones@fun4all.com'),\n",
       " ('1000000004', 'Fun4All', '829 Riverside Drive', 'Phoenix', 'AZ', '88888', 'USA', 'Denise L. Stephens', 'dstephens@fun4all.com'),\n",
       " ('1000000005', 'The Toy Store', '4545 53rd Street', 'Chicago', 'IL', '54545', 'USA', 'Kim Howard', 'kim@thetoystore.com')]"
      ]
     },
     "execution_count": 36,
     "metadata": {},
     "output_type": "execute_result"
    }
   ],
   "source": [
    "%sql SELECT * FROM Customers LIMIT 5;"
   ]
  },
  {
   "cell_type": "code",
   "execution_count": 38,
   "metadata": {},
   "outputs": [
    {
     "name": "stdout",
     "output_type": "stream",
     "text": [
      " * sqlite:///TYSQL.sqlite\n",
      "Done.\n"
     ]
    },
    {
     "data": {
      "text/html": [
       "<table>\n",
       "    <tr>\n",
       "        <th>order_num</th>\n",
       "        <th>order_date</th>\n",
       "        <th>cust_id</th>\n",
       "    </tr>\n",
       "    <tr>\n",
       "        <td>20005</td>\n",
       "        <td>2020-05-01</td>\n",
       "        <td>1000000001</td>\n",
       "    </tr>\n",
       "    <tr>\n",
       "        <td>20006</td>\n",
       "        <td>2020-01-12</td>\n",
       "        <td>1000000003</td>\n",
       "    </tr>\n",
       "    <tr>\n",
       "        <td>20007</td>\n",
       "        <td>2020-01-30</td>\n",
       "        <td>1000000004</td>\n",
       "    </tr>\n",
       "    <tr>\n",
       "        <td>20008</td>\n",
       "        <td>2020-02-03</td>\n",
       "        <td>1000000005</td>\n",
       "    </tr>\n",
       "    <tr>\n",
       "        <td>20009</td>\n",
       "        <td>2020-02-08</td>\n",
       "        <td>1000000001</td>\n",
       "    </tr>\n",
       "</table>"
      ],
      "text/plain": [
       "[(20005, '2020-05-01', '1000000001'),\n",
       " (20006, '2020-01-12', '1000000003'),\n",
       " (20007, '2020-01-30', '1000000004'),\n",
       " (20008, '2020-02-03', '1000000005'),\n",
       " (20009, '2020-02-08', '1000000001')]"
      ]
     },
     "execution_count": 38,
     "metadata": {},
     "output_type": "execute_result"
    }
   ],
   "source": [
    "%sql SELECT * FROM Orders LIMIT 5;"
   ]
  },
  {
   "cell_type": "code",
   "execution_count": 53,
   "metadata": {},
   "outputs": [
    {
     "name": "stdout",
     "output_type": "stream",
     "text": [
      " * sqlite:///TYSQL.sqlite\n",
      "(sqlite3.OperationalError) no such column: Orders.cust_id\n",
      "[SQL: WITH t1 AS (SELECT order_num, ROUND(SUM(quantity * item_price), 2) AS tot_amt FROM OrderItems GROUP BY order_num) SELECT Orders.cust_id, t1.tot_amt;]\n",
      "(Background on this error at: http://sqlalche.me/e/e3q8)\n"
     ]
    }
   ],
   "source": [
    "%sql WITH t1 AS (SELECT order_num, ROUND(SUM(quantity * item_price), 2) AS tot_amt FROM OrderItems GROUP BY order_num), "
   ]
  },
  {
   "cell_type": "code",
   "execution_count": 54,
   "metadata": {},
   "outputs": [
    {
     "name": "stdout",
     "output_type": "stream",
     "text": [
      " * sqlite:///TYSQL.sqlite\n",
      "Done.\n"
     ]
    },
    {
     "data": {
      "text/html": [
       "<table>\n",
       "    <tr>\n",
       "        <th>prod_id</th>\n",
       "        <th>vend_id</th>\n",
       "        <th>prod_name</th>\n",
       "        <th>prod_price</th>\n",
       "        <th>prod_desc</th>\n",
       "    </tr>\n",
       "    <tr>\n",
       "        <td>BR01</td>\n",
       "        <td>BRS01</td>\n",
       "        <td>8 inch teddy bear</td>\n",
       "        <td>5.99</td>\n",
       "        <td>8 inch teddy bear, comes with cap and jacket</td>\n",
       "    </tr>\n",
       "    <tr>\n",
       "        <td>BR02</td>\n",
       "        <td>BRS01</td>\n",
       "        <td>12 inch teddy bear</td>\n",
       "        <td>8.99</td>\n",
       "        <td>12 inch teddy bear, comes with cap and jacket</td>\n",
       "    </tr>\n",
       "    <tr>\n",
       "        <td>BR03</td>\n",
       "        <td>BRS01</td>\n",
       "        <td>18 inch teddy bear</td>\n",
       "        <td>11.99</td>\n",
       "        <td>18 inch teddy bear, comes with cap and jacket</td>\n",
       "    </tr>\n",
       "    <tr>\n",
       "        <td>BNBG01</td>\n",
       "        <td>DLL01</td>\n",
       "        <td>Fish bean bag toy</td>\n",
       "        <td>3.49</td>\n",
       "        <td>Fish bean bag toy, complete with bean bag worms with which to feed it</td>\n",
       "    </tr>\n",
       "    <tr>\n",
       "        <td>BNBG02</td>\n",
       "        <td>DLL01</td>\n",
       "        <td>Bird bean bag toy</td>\n",
       "        <td>3.49</td>\n",
       "        <td>Bird bean bag toy, eggs are not included</td>\n",
       "    </tr>\n",
       "    <tr>\n",
       "        <td>BNBG03</td>\n",
       "        <td>DLL01</td>\n",
       "        <td>Rabbit bean bag toy</td>\n",
       "        <td>3.49</td>\n",
       "        <td>Rabbit bean bag toy, comes with bean bag carrots</td>\n",
       "    </tr>\n",
       "    <tr>\n",
       "        <td>RGAN01</td>\n",
       "        <td>DLL01</td>\n",
       "        <td>Raggedy Ann</td>\n",
       "        <td>4.99</td>\n",
       "        <td>18 inch Raggedy Ann doll</td>\n",
       "    </tr>\n",
       "    <tr>\n",
       "        <td>RYL01</td>\n",
       "        <td>FNG01</td>\n",
       "        <td>King doll</td>\n",
       "        <td>9.49</td>\n",
       "        <td>12 inch king doll with royal garments and crown</td>\n",
       "    </tr>\n",
       "    <tr>\n",
       "        <td>RYL02</td>\n",
       "        <td>FNG01</td>\n",
       "        <td>Queen doll</td>\n",
       "        <td>9.49</td>\n",
       "        <td>12 inch queen doll with royal garments and crown</td>\n",
       "    </tr>\n",
       "</table>"
      ],
      "text/plain": [
       "[('BR01', 'BRS01', '8 inch teddy bear', 5.99, '8 inch teddy bear, comes with cap and jacket'),\n",
       " ('BR02', 'BRS01', '12 inch teddy bear', 8.99, '12 inch teddy bear, comes with cap and jacket'),\n",
       " ('BR03', 'BRS01', '18 inch teddy bear', 11.99, '18 inch teddy bear, comes with cap and jacket'),\n",
       " ('BNBG01', 'DLL01', 'Fish bean bag toy', 3.49, 'Fish bean bag toy, complete with bean bag worms with which to feed it'),\n",
       " ('BNBG02', 'DLL01', 'Bird bean bag toy', 3.49, 'Bird bean bag toy, eggs are not included'),\n",
       " ('BNBG03', 'DLL01', 'Rabbit bean bag toy', 3.49, 'Rabbit bean bag toy, comes with bean bag carrots'),\n",
       " ('RGAN01', 'DLL01', 'Raggedy Ann', 4.99, '18 inch Raggedy Ann doll'),\n",
       " ('RYL01', 'FNG01', 'King doll', 9.49, '12 inch king doll with royal garments and crown'),\n",
       " ('RYL02', 'FNG01', 'Queen doll', 9.49, '12 inch queen doll with royal garments and crown')]"
      ]
     },
     "execution_count": 54,
     "metadata": {},
     "output_type": "execute_result"
    }
   ],
   "source": [
    "%sql SELECT * FROM Products;"
   ]
  },
  {
   "cell_type": "code",
   "execution_count": 63,
   "metadata": {},
   "outputs": [
    {
     "name": "stdout",
     "output_type": "stream",
     "text": [
      " * sqlite:///TYSQL.sqlite\n",
      "Done.\n"
     ]
    },
    {
     "data": {
      "text/html": [
       "<table>\n",
       "    <tr>\n",
       "        <th>prod_id</th>\n",
       "        <th>tot_qty</th>\n",
       "    </tr>\n",
       "    <tr>\n",
       "        <td>BNBG01</td>\n",
       "        <td>360</td>\n",
       "    </tr>\n",
       "    <tr>\n",
       "        <td>BNBG02</td>\n",
       "        <td>360</td>\n",
       "    </tr>\n",
       "    <tr>\n",
       "        <td>BNBG03</td>\n",
       "        <td>360</td>\n",
       "    </tr>\n",
       "    <tr>\n",
       "        <td>BR01</td>\n",
       "        <td>120</td>\n",
       "    </tr>\n",
       "    <tr>\n",
       "        <td>BR02</td>\n",
       "        <td>10</td>\n",
       "    </tr>\n",
       "    <tr>\n",
       "        <td>BR03</td>\n",
       "        <td>165</td>\n",
       "    </tr>\n",
       "    <tr>\n",
       "        <td>RGAN01</td>\n",
       "        <td>55</td>\n",
       "    </tr>\n",
       "    <tr>\n",
       "        <td>RYL01</td>\n",
       "        <td>None</td>\n",
       "    </tr>\n",
       "    <tr>\n",
       "        <td>RYL02</td>\n",
       "        <td>None</td>\n",
       "    </tr>\n",
       "</table>"
      ],
      "text/plain": [
       "[('BNBG01', 360),\n",
       " ('BNBG02', 360),\n",
       " ('BNBG03', 360),\n",
       " ('BR01', 120),\n",
       " ('BR02', 10),\n",
       " ('BR03', 165),\n",
       " ('RGAN01', 55),\n",
       " ('RYL01', None),\n",
       " ('RYL02', None)]"
      ]
     },
     "execution_count": 63,
     "metadata": {},
     "output_type": "execute_result"
    }
   ],
   "source": [
    "%sql SELECT prod_id, (SELECT SUM(quantity) FROM OrderItems WHERE Products.prod_id=OrderItems.prod_id) AS tot_qty FROM Products;"
   ]
  },
  {
   "cell_type": "code",
   "execution_count": 61,
   "metadata": {},
   "outputs": [
    {
     "name": "stdout",
     "output_type": "stream",
     "text": [
      " * sqlite:///TYSQL.sqlite\n",
      "Done.\n"
     ]
    },
    {
     "data": {
      "text/html": [
       "<table>\n",
       "    <tr>\n",
       "        <th>prod_id</th>\n",
       "        <th>SUM(quantity)</th>\n",
       "    </tr>\n",
       "    <tr>\n",
       "        <td>BNBG01</td>\n",
       "        <td>360</td>\n",
       "    </tr>\n",
       "    <tr>\n",
       "        <td>BNBG02</td>\n",
       "        <td>360</td>\n",
       "    </tr>\n",
       "    <tr>\n",
       "        <td>BNBG03</td>\n",
       "        <td>360</td>\n",
       "    </tr>\n",
       "    <tr>\n",
       "        <td>BR01</td>\n",
       "        <td>120</td>\n",
       "    </tr>\n",
       "    <tr>\n",
       "        <td>BR02</td>\n",
       "        <td>10</td>\n",
       "    </tr>\n",
       "    <tr>\n",
       "        <td>BR03</td>\n",
       "        <td>165</td>\n",
       "    </tr>\n",
       "    <tr>\n",
       "        <td>RGAN01</td>\n",
       "        <td>55</td>\n",
       "    </tr>\n",
       "</table>"
      ],
      "text/plain": [
       "[('BNBG01', 360),\n",
       " ('BNBG02', 360),\n",
       " ('BNBG03', 360),\n",
       " ('BR01', 120),\n",
       " ('BR02', 10),\n",
       " ('BR03', 165),\n",
       " ('RGAN01', 55)]"
      ]
     },
     "execution_count": 61,
     "metadata": {},
     "output_type": "execute_result"
    }
   ],
   "source": [
    "%sql SELECT prod_id, SUM(quantity) FROM OrderItems GROUP BY prod_id"
   ]
  },
  {
   "cell_type": "code",
   "execution_count": 90,
   "metadata": {},
   "outputs": [
    {
     "name": "stdout",
     "output_type": "stream",
     "text": [
      " * sqlite:///TYSQL.sqlite\n",
      "Done.\n"
     ]
    },
    {
     "data": {
      "text/html": [
       "<table>\n",
       "    <tr>\n",
       "        <th>cust_id</th>\n",
       "        <th>cust_name</th>\n",
       "        <th>cust_address</th>\n",
       "        <th>cust_city</th>\n",
       "        <th>cust_state</th>\n",
       "        <th>cust_zip</th>\n",
       "        <th>cust_country</th>\n",
       "        <th>cust_contact</th>\n",
       "        <th>cust_email</th>\n",
       "    </tr>\n",
       "    <tr>\n",
       "        <td>1000000001</td>\n",
       "        <td>Village Toys</td>\n",
       "        <td>200 Maple Lane</td>\n",
       "        <td>Detroit</td>\n",
       "        <td>MI</td>\n",
       "        <td>44444</td>\n",
       "        <td>USA</td>\n",
       "        <td>John Smith</td>\n",
       "        <td>sales@villagetoys.com</td>\n",
       "    </tr>\n",
       "    <tr>\n",
       "        <td>1000000002</td>\n",
       "        <td>Kids Place</td>\n",
       "        <td>333 South Lake Drive</td>\n",
       "        <td>Columbus</td>\n",
       "        <td>OH</td>\n",
       "        <td>43333</td>\n",
       "        <td>USA</td>\n",
       "        <td>Michelle Green</td>\n",
       "        <td>None</td>\n",
       "    </tr>\n",
       "    <tr>\n",
       "        <td>1000000003</td>\n",
       "        <td>Fun4All</td>\n",
       "        <td>1 Sunny Place</td>\n",
       "        <td>Muncie</td>\n",
       "        <td>IN</td>\n",
       "        <td>42222</td>\n",
       "        <td>USA</td>\n",
       "        <td>Jim Jones</td>\n",
       "        <td>jjones@fun4all.com</td>\n",
       "    </tr>\n",
       "    <tr>\n",
       "        <td>1000000004</td>\n",
       "        <td>Fun4All</td>\n",
       "        <td>829 Riverside Drive</td>\n",
       "        <td>Phoenix</td>\n",
       "        <td>AZ</td>\n",
       "        <td>88888</td>\n",
       "        <td>USA</td>\n",
       "        <td>Denise L. Stephens</td>\n",
       "        <td>dstephens@fun4all.com</td>\n",
       "    </tr>\n",
       "    <tr>\n",
       "        <td>1000000005</td>\n",
       "        <td>The Toy Store</td>\n",
       "        <td>4545 53rd Street</td>\n",
       "        <td>Chicago</td>\n",
       "        <td>IL</td>\n",
       "        <td>54545</td>\n",
       "        <td>USA</td>\n",
       "        <td>Kim Howard</td>\n",
       "        <td>kim@thetoystore.com</td>\n",
       "    </tr>\n",
       "</table>"
      ],
      "text/plain": [
       "[('1000000001', 'Village Toys', '200 Maple Lane', 'Detroit', 'MI', '44444', 'USA', 'John Smith', 'sales@villagetoys.com'),\n",
       " ('1000000002', 'Kids Place', '333 South Lake Drive', 'Columbus', 'OH', '43333', 'USA', 'Michelle Green', None),\n",
       " ('1000000003', 'Fun4All', '1 Sunny Place', 'Muncie', 'IN', '42222', 'USA', 'Jim Jones', 'jjones@fun4all.com'),\n",
       " ('1000000004', 'Fun4All', '829 Riverside Drive', 'Phoenix', 'AZ', '88888', 'USA', 'Denise L. Stephens', 'dstephens@fun4all.com'),\n",
       " ('1000000005', 'The Toy Store', '4545 53rd Street', 'Chicago', 'IL', '54545', 'USA', 'Kim Howard', 'kim@thetoystore.com')]"
      ]
     },
     "execution_count": 90,
     "metadata": {},
     "output_type": "execute_result"
    }
   ],
   "source": [
    "%sql SELECT * FROM Customers LIMIT 5;"
   ]
  },
  {
   "cell_type": "code",
   "execution_count": 91,
   "metadata": {},
   "outputs": [
    {
     "name": "stdout",
     "output_type": "stream",
     "text": [
      " * sqlite:///TYSQL.sqlite\n",
      "Done.\n"
     ]
    },
    {
     "data": {
      "text/html": [
       "<table>\n",
       "    <tr>\n",
       "        <th>order_num</th>\n",
       "        <th>order_date</th>\n",
       "        <th>cust_id</th>\n",
       "    </tr>\n",
       "    <tr>\n",
       "        <td>20005</td>\n",
       "        <td>2020-05-01</td>\n",
       "        <td>1000000001</td>\n",
       "    </tr>\n",
       "    <tr>\n",
       "        <td>20006</td>\n",
       "        <td>2020-01-12</td>\n",
       "        <td>1000000003</td>\n",
       "    </tr>\n",
       "    <tr>\n",
       "        <td>20007</td>\n",
       "        <td>2020-01-30</td>\n",
       "        <td>1000000004</td>\n",
       "    </tr>\n",
       "    <tr>\n",
       "        <td>20008</td>\n",
       "        <td>2020-02-03</td>\n",
       "        <td>1000000005</td>\n",
       "    </tr>\n",
       "    <tr>\n",
       "        <td>20009</td>\n",
       "        <td>2020-02-08</td>\n",
       "        <td>1000000001</td>\n",
       "    </tr>\n",
       "</table>"
      ],
      "text/plain": [
       "[(20005, '2020-05-01', '1000000001'),\n",
       " (20006, '2020-01-12', '1000000003'),\n",
       " (20007, '2020-01-30', '1000000004'),\n",
       " (20008, '2020-02-03', '1000000005'),\n",
       " (20009, '2020-02-08', '1000000001')]"
      ]
     },
     "execution_count": 91,
     "metadata": {},
     "output_type": "execute_result"
    }
   ],
   "source": [
    "%sql SELECT * FROM Orders LIMIT 5;"
   ]
  },
  {
   "cell_type": "code",
   "execution_count": 95,
   "metadata": {},
   "outputs": [
    {
     "name": "stdout",
     "output_type": "stream",
     "text": [
      " * sqlite:///TYSQL.sqlite\n",
      "Done.\n"
     ]
    },
    {
     "data": {
      "text/html": [
       "<table>\n",
       "    <tr>\n",
       "        <th>cust_name</th>\n",
       "        <th>order_num</th>\n",
       "    </tr>\n",
       "    <tr>\n",
       "        <td>Village Toys</td>\n",
       "        <td>20005</td>\n",
       "    </tr>\n",
       "    <tr>\n",
       "        <td>Fun4All</td>\n",
       "        <td>20006</td>\n",
       "    </tr>\n",
       "    <tr>\n",
       "        <td>Fun4All</td>\n",
       "        <td>20007</td>\n",
       "    </tr>\n",
       "    <tr>\n",
       "        <td>The Toy Store</td>\n",
       "        <td>20008</td>\n",
       "    </tr>\n",
       "    <tr>\n",
       "        <td>Village Toys</td>\n",
       "        <td>20009</td>\n",
       "    </tr>\n",
       "</table>"
      ],
      "text/plain": [
       "[('Village Toys', 20005),\n",
       " ('Fun4All', 20006),\n",
       " ('Fun4All', 20007),\n",
       " ('The Toy Store', 20008),\n",
       " ('Village Toys', 20009)]"
      ]
     },
     "execution_count": 95,
     "metadata": {},
     "output_type": "execute_result"
    }
   ],
   "source": [
    "%sql SELECT cust_name, order_num FROM Customers, Orders WHERE Customers.cust_id=Orders.cust_id;"
   ]
  },
  {
   "cell_type": "code",
   "execution_count": 116,
   "metadata": {},
   "outputs": [
    {
     "name": "stdout",
     "output_type": "stream",
     "text": [
      " * sqlite:///TYSQL.sqlite\n",
      "Done.\n"
     ]
    },
    {
     "data": {
      "text/html": [
       "<table>\n",
       "    <tr>\n",
       "        <th>cust_name</th>\n",
       "        <th>order_num</th>\n",
       "        <th>tot_amt</th>\n",
       "    </tr>\n",
       "    <tr>\n",
       "        <td>Village Toys</td>\n",
       "        <td>20005</td>\n",
       "        <td>1648.0</td>\n",
       "    </tr>\n",
       "    <tr>\n",
       "        <td>Fun4All</td>\n",
       "        <td>20006</td>\n",
       "        <td>329.6</td>\n",
       "    </tr>\n",
       "    <tr>\n",
       "        <td>Fun4All</td>\n",
       "        <td>20007</td>\n",
       "        <td>1696.0</td>\n",
       "    </tr>\n",
       "    <tr>\n",
       "        <td>The Toy Store</td>\n",
       "        <td>20008</td>\n",
       "        <td>189.6</td>\n",
       "    </tr>\n",
       "    <tr>\n",
       "        <td>Village Toys</td>\n",
       "        <td>20009</td>\n",
       "        <td>1867.5</td>\n",
       "    </tr>\n",
       "</table>"
      ],
      "text/plain": [
       "[('Village Toys', 20005, 1648.0),\n",
       " ('Fun4All', 20006, 329.6),\n",
       " ('Fun4All', 20007, 1696.0),\n",
       " ('The Toy Store', 20008, 189.6),\n",
       " ('Village Toys', 20009, 1867.5)]"
      ]
     },
     "execution_count": 116,
     "metadata": {},
     "output_type": "execute_result"
    }
   ],
   "source": [
    "%%sql \n",
    "SELECT cust_name, t1.order_num, t1.tot_amt \n",
    "FROM Orders \n",
    "INNER JOIN Customers \n",
    "ON Orders.cust_id=Customers.cust_id \n",
    "INNER JOIN (SELECT OrderItems.order_num, ROUND(SUM(quantity * item_price), 2) AS tot_amt\n",
    "            FROM OrderItems\n",
    "            GROUP BY OrderItems.order_num) AS t1\n",
    "ON t1.order_num=Orders.order_num;"
   ]
  },
  {
   "cell_type": "code",
   "execution_count": 111,
   "metadata": {},
   "outputs": [
    {
     "name": "stdout",
     "output_type": "stream",
     "text": [
      " * sqlite:///TYSQL.sqlite\n",
      "Done.\n"
     ]
    },
    {
     "data": {
      "text/html": [
       "<table>\n",
       "    <tr>\n",
       "        <th>order_num</th>\n",
       "        <th>tot_amt</th>\n",
       "    </tr>\n",
       "    <tr>\n",
       "        <td>20005</td>\n",
       "        <td>1648.0</td>\n",
       "    </tr>\n",
       "    <tr>\n",
       "        <td>20006</td>\n",
       "        <td>329.6</td>\n",
       "    </tr>\n",
       "    <tr>\n",
       "        <td>20007</td>\n",
       "        <td>1696.0</td>\n",
       "    </tr>\n",
       "    <tr>\n",
       "        <td>20008</td>\n",
       "        <td>189.6</td>\n",
       "    </tr>\n",
       "    <tr>\n",
       "        <td>20009</td>\n",
       "        <td>1867.5</td>\n",
       "    </tr>\n",
       "</table>"
      ],
      "text/plain": [
       "[(20005, 1648.0),\n",
       " (20006, 329.6),\n",
       " (20007, 1696.0),\n",
       " (20008, 189.6),\n",
       " (20009, 1867.5)]"
      ]
     },
     "execution_count": 111,
     "metadata": {},
     "output_type": "execute_result"
    }
   ],
   "source": [
    "%%sql \n",
    "SELECT order_num, ROUND(SUM(quantity * item_price), 2) AS tot_amt \n",
    "FROM OrderItems \n",
    "GROUP BY order_num\n",
    "LIMIT 5;"
   ]
  },
  {
   "cell_type": "code",
   "execution_count": 136,
   "metadata": {},
   "outputs": [
    {
     "name": "stdout",
     "output_type": "stream",
     "text": [
      " * sqlite:///TYSQL.sqlite\n",
      "Done.\n"
     ]
    },
    {
     "data": {
      "text/html": [
       "<table>\n",
       "    <tr>\n",
       "        <th>order_num</th>\n",
       "        <th>order_item</th>\n",
       "        <th>prod_id</th>\n",
       "        <th>quantity</th>\n",
       "        <th>item_price</th>\n",
       "    </tr>\n",
       "    <tr>\n",
       "        <td>20005</td>\n",
       "        <td>1</td>\n",
       "        <td>BR01</td>\n",
       "        <td>100</td>\n",
       "        <td>5.49</td>\n",
       "    </tr>\n",
       "</table>"
      ],
      "text/plain": [
       "[(20005, 1, 'BR01', 100, 5.49)]"
      ]
     },
     "execution_count": 136,
     "metadata": {},
     "output_type": "execute_result"
    }
   ],
   "source": [
    "%sql SELECT * FROM OrderItems LIMIT 1;"
   ]
  },
  {
   "cell_type": "code",
   "execution_count": 125,
   "metadata": {},
   "outputs": [
    {
     "name": "stdout",
     "output_type": "stream",
     "text": [
      " * sqlite:///TYSQL.sqlite\n",
      "Done.\n"
     ]
    },
    {
     "data": {
      "text/html": [
       "<table>\n",
       "    <tr>\n",
       "        <th>order_num</th>\n",
       "        <th>order_date</th>\n",
       "    </tr>\n",
       "    <tr>\n",
       "        <td>20005</td>\n",
       "        <td>2020-05-01</td>\n",
       "    </tr>\n",
       "    <tr>\n",
       "        <td>20006</td>\n",
       "        <td>2020-01-12</td>\n",
       "    </tr>\n",
       "</table>"
      ],
      "text/plain": [
       "[(20005, '2020-05-01'), (20006, '2020-01-12')]"
      ]
     },
     "execution_count": 125,
     "metadata": {},
     "output_type": "execute_result"
    }
   ],
   "source": [
    "%%sql \n",
    "SELECT OrderItems.order_num, order_date\n",
    "FROM Orders, OrderItems\n",
    "WHERE Orders.order_num=OrderItems.order_num\n",
    "AND OrderItems.prod_id='BR01';"
   ]
  },
  {
   "cell_type": "code",
   "execution_count": 131,
   "metadata": {},
   "outputs": [
    {
     "name": "stdout",
     "output_type": "stream",
     "text": [
      " * sqlite:///TYSQL.sqlite\n",
      "Done.\n"
     ]
    },
    {
     "data": {
      "text/html": [
       "<table>\n",
       "    <tr>\n",
       "        <th>order_num</th>\n",
       "        <th>order_date</th>\n",
       "    </tr>\n",
       "    <tr>\n",
       "        <td>20005</td>\n",
       "        <td>2020-05-01</td>\n",
       "    </tr>\n",
       "    <tr>\n",
       "        <td>20006</td>\n",
       "        <td>2020-01-12</td>\n",
       "    </tr>\n",
       "</table>"
      ],
      "text/plain": [
       "[(20005, '2020-05-01'), (20006, '2020-01-12')]"
      ]
     },
     "execution_count": 131,
     "metadata": {},
     "output_type": "execute_result"
    }
   ],
   "source": [
    "%%sql \n",
    "SELECT OrderItems.order_num, order_date\n",
    "FROM Orders\n",
    "INNER JOIN OrderItems\n",
    "ON Orders.order_num=OrderItems.order_num\n",
    "WHERE OrderItems.prod_id='BR01';"
   ]
  },
  {
   "cell_type": "code",
   "execution_count": 135,
   "metadata": {},
   "outputs": [
    {
     "name": "stdout",
     "output_type": "stream",
     "text": [
      " * sqlite:///TYSQL.sqlite\n",
      "Done.\n"
     ]
    },
    {
     "data": {
      "text/html": [
       "<table>\n",
       "    <tr>\n",
       "        <th>order_num</th>\n",
       "        <th>order_date</th>\n",
       "        <th>cust_id</th>\n",
       "        <th>cust_email</th>\n",
       "    </tr>\n",
       "    <tr>\n",
       "        <td>20005</td>\n",
       "        <td>2020-05-01</td>\n",
       "        <td>1000000001</td>\n",
       "        <td>sales@villagetoys.com</td>\n",
       "    </tr>\n",
       "    <tr>\n",
       "        <td>20006</td>\n",
       "        <td>2020-01-12</td>\n",
       "        <td>1000000003</td>\n",
       "        <td>jjones@fun4all.com</td>\n",
       "    </tr>\n",
       "</table>"
      ],
      "text/plain": [
       "[(20005, '2020-05-01', '1000000001', 'sales@villagetoys.com'),\n",
       " (20006, '2020-01-12', '1000000003', 'jjones@fun4all.com')]"
      ]
     },
     "execution_count": 135,
     "metadata": {},
     "output_type": "execute_result"
    }
   ],
   "source": [
    "%%sql \n",
    "SELECT OrderItems.order_num, order_date, Orders.cust_id, cust_email\n",
    "FROM Orders\n",
    "INNER JOIN OrderItems\n",
    "ON Orders.order_num=OrderItems.order_num\n",
    "INNER JOIN Customers\n",
    "ON Orders.cust_id=Customers.cust_id\n",
    "WHERE OrderItems.prod_id='BR01';"
   ]
  },
  {
   "cell_type": "code",
   "execution_count": 143,
   "metadata": {},
   "outputs": [
    {
     "name": "stdout",
     "output_type": "stream",
     "text": [
      " * sqlite:///TYSQL.sqlite\n",
      "Done.\n"
     ]
    },
    {
     "data": {
      "text/html": [
       "<table>\n",
       "    <tr>\n",
       "        <th>order_num</th>\n",
       "        <th>cust_id</th>\n",
       "        <th>cust_name</th>\n",
       "        <th>tot_amt</th>\n",
       "    </tr>\n",
       "    <tr>\n",
       "        <td>20005</td>\n",
       "        <td>1000000001</td>\n",
       "        <td>Village Toys</td>\n",
       "        <td>1648.0</td>\n",
       "    </tr>\n",
       "    <tr>\n",
       "        <td>20007</td>\n",
       "        <td>1000000004</td>\n",
       "        <td>Fun4All</td>\n",
       "        <td>1696.0</td>\n",
       "    </tr>\n",
       "    <tr>\n",
       "        <td>20009</td>\n",
       "        <td>1000000001</td>\n",
       "        <td>Village Toys</td>\n",
       "        <td>1867.5</td>\n",
       "    </tr>\n",
       "</table>"
      ],
      "text/plain": [
       "[(20005, '1000000001', 'Village Toys', 1648.0),\n",
       " (20007, '1000000004', 'Fun4All', 1696.0),\n",
       " (20009, '1000000001', 'Village Toys', 1867.5)]"
      ]
     },
     "execution_count": 143,
     "metadata": {},
     "output_type": "execute_result"
    }
   ],
   "source": [
    "%%sql\n",
    "SELECT Orders.order_num, Customers.cust_id, Customers.cust_name, ROUND(SUM(quantity*item_price),2) AS tot_amt\n",
    "FROM OrderItems \n",
    "INNER JOIN Orders\n",
    "ON Orders.order_num=OrderItems.order_num\n",
    "INNER JOIN Customers\n",
    "ON Orders.cust_id=Customers.cust_id\n",
    "GROUP BY Orders.order_num\n",
    "HAVING tot_amt >= 1000"
   ]
  },
  {
   "cell_type": "code",
   "execution_count": 140,
   "metadata": {},
   "outputs": [
    {
     "name": "stdout",
     "output_type": "stream",
     "text": [
      " * sqlite:///TYSQL.sqlite\n",
      "Done.\n"
     ]
    },
    {
     "data": {
      "text/html": [
       "<table>\n",
       "    <tr>\n",
       "        <th>order_num</th>\n",
       "        <th>tot_amt</th>\n",
       "    </tr>\n",
       "    <tr>\n",
       "        <td>20005</td>\n",
       "        <td>1648.0</td>\n",
       "    </tr>\n",
       "    <tr>\n",
       "        <td>20007</td>\n",
       "        <td>1696.0</td>\n",
       "    </tr>\n",
       "    <tr>\n",
       "        <td>20009</td>\n",
       "        <td>1867.5</td>\n",
       "    </tr>\n",
       "</table>"
      ],
      "text/plain": [
       "[(20005, 1648.0), (20007, 1696.0), (20009, 1867.5)]"
      ]
     },
     "execution_count": 140,
     "metadata": {},
     "output_type": "execute_result"
    }
   ],
   "source": [
    "%%sql\n",
    "SELECT order_num, ROUND(SUM(quantity*item_price),2) AS tot_amt\n",
    "FROM OrderItems \n",
    "GROUP BY order_num\n",
    "HAVING tot_amt >= 1000"
   ]
  },
  {
   "cell_type": "code",
   "execution_count": 141,
   "metadata": {},
   "outputs": [
    {
     "name": "stdout",
     "output_type": "stream",
     "text": [
      " * sqlite:///TYSQL.sqlite\n",
      "Done.\n"
     ]
    },
    {
     "data": {
      "text/html": [
       "<table>\n",
       "    <tr>\n",
       "        <th>order_num</th>\n",
       "        <th>order_date</th>\n",
       "        <th>cust_id</th>\n",
       "    </tr>\n",
       "    <tr>\n",
       "        <td>20005</td>\n",
       "        <td>2020-05-01</td>\n",
       "        <td>1000000001</td>\n",
       "    </tr>\n",
       "    <tr>\n",
       "        <td>20006</td>\n",
       "        <td>2020-01-12</td>\n",
       "        <td>1000000003</td>\n",
       "    </tr>\n",
       "    <tr>\n",
       "        <td>20007</td>\n",
       "        <td>2020-01-30</td>\n",
       "        <td>1000000004</td>\n",
       "    </tr>\n",
       "    <tr>\n",
       "        <td>20008</td>\n",
       "        <td>2020-02-03</td>\n",
       "        <td>1000000005</td>\n",
       "    </tr>\n",
       "    <tr>\n",
       "        <td>20009</td>\n",
       "        <td>2020-02-08</td>\n",
       "        <td>1000000001</td>\n",
       "    </tr>\n",
       "</table>"
      ],
      "text/plain": [
       "[(20005, '2020-05-01', '1000000001'),\n",
       " (20006, '2020-01-12', '1000000003'),\n",
       " (20007, '2020-01-30', '1000000004'),\n",
       " (20008, '2020-02-03', '1000000005'),\n",
       " (20009, '2020-02-08', '1000000001')]"
      ]
     },
     "execution_count": 141,
     "metadata": {},
     "output_type": "execute_result"
    }
   ],
   "source": [
    "%%sql\n",
    "SELECT *\n",
    "FROM Orders;"
   ]
  },
  {
   "cell_type": "code",
   "execution_count": 148,
   "metadata": {},
   "outputs": [
    {
     "name": "stdout",
     "output_type": "stream",
     "text": [
      " * sqlite:///TYSQL.sqlite\n",
      "Done.\n"
     ]
    },
    {
     "data": {
      "text/html": [
       "<table>\n",
       "    <tr>\n",
       "        <th>cust_name</th>\n",
       "        <th>order_num</th>\n",
       "    </tr>\n",
       "    <tr>\n",
       "        <td>Village Toys</td>\n",
       "        <td>20005</td>\n",
       "    </tr>\n",
       "    <tr>\n",
       "        <td>Fun4All</td>\n",
       "        <td>20006</td>\n",
       "    </tr>\n",
       "    <tr>\n",
       "        <td>Fun4All</td>\n",
       "        <td>20007</td>\n",
       "    </tr>\n",
       "    <tr>\n",
       "        <td>The Toy Store</td>\n",
       "        <td>20008</td>\n",
       "    </tr>\n",
       "    <tr>\n",
       "        <td>Village Toys</td>\n",
       "        <td>20009</td>\n",
       "    </tr>\n",
       "</table>"
      ],
      "text/plain": [
       "[('Village Toys', 20005),\n",
       " ('Fun4All', 20006),\n",
       " ('Fun4All', 20007),\n",
       " ('The Toy Store', 20008),\n",
       " ('Village Toys', 20009)]"
      ]
     },
     "execution_count": 148,
     "metadata": {},
     "output_type": "execute_result"
    }
   ],
   "source": [
    "%%sql\n",
    "SELECT Customers.cust_name, Orders.order_num \n",
    "FROM Customers, Orders\n",
    "WHERE Customers.cust_id = Orders.cust_id"
   ]
  },
  {
   "cell_type": "code",
   "execution_count": 149,
   "metadata": {},
   "outputs": [
    {
     "name": "stdout",
     "output_type": "stream",
     "text": [
      " * sqlite:///TYSQL.sqlite\n",
      "Done.\n"
     ]
    },
    {
     "data": {
      "text/html": [
       "<table>\n",
       "    <tr>\n",
       "        <th>cust_name</th>\n",
       "        <th>order_num</th>\n",
       "    </tr>\n",
       "    <tr>\n",
       "        <td>Village Toys</td>\n",
       "        <td>20005</td>\n",
       "    </tr>\n",
       "    <tr>\n",
       "        <td>Fun4All</td>\n",
       "        <td>20006</td>\n",
       "    </tr>\n",
       "    <tr>\n",
       "        <td>Fun4All</td>\n",
       "        <td>20007</td>\n",
       "    </tr>\n",
       "    <tr>\n",
       "        <td>The Toy Store</td>\n",
       "        <td>20008</td>\n",
       "    </tr>\n",
       "    <tr>\n",
       "        <td>Village Toys</td>\n",
       "        <td>20009</td>\n",
       "    </tr>\n",
       "</table>"
      ],
      "text/plain": [
       "[('Village Toys', 20005),\n",
       " ('Fun4All', 20006),\n",
       " ('Fun4All', 20007),\n",
       " ('The Toy Store', 20008),\n",
       " ('Village Toys', 20009)]"
      ]
     },
     "execution_count": 149,
     "metadata": {},
     "output_type": "execute_result"
    }
   ],
   "source": [
    "%%sql\n",
    "SELECT Customers.cust_name, Orders.order_num \n",
    "FROM Customers\n",
    "INNER JOIN Orders\n",
    "ON Customers.cust_id = Orders.cust_id"
   ]
  },
  {
   "cell_type": "code",
   "execution_count": 150,
   "metadata": {},
   "outputs": [
    {
     "name": "stdout",
     "output_type": "stream",
     "text": [
      " * sqlite:///TYSQL.sqlite\n",
      "Done.\n"
     ]
    },
    {
     "data": {
      "text/html": [
       "<table>\n",
       "    <tr>\n",
       "        <th>cust_name</th>\n",
       "        <th>order_num</th>\n",
       "    </tr>\n",
       "    <tr>\n",
       "        <td>Village Toys</td>\n",
       "        <td>20005</td>\n",
       "    </tr>\n",
       "    <tr>\n",
       "        <td>Village Toys</td>\n",
       "        <td>20009</td>\n",
       "    </tr>\n",
       "    <tr>\n",
       "        <td>Kids Place</td>\n",
       "        <td>None</td>\n",
       "    </tr>\n",
       "    <tr>\n",
       "        <td>Fun4All</td>\n",
       "        <td>20006</td>\n",
       "    </tr>\n",
       "    <tr>\n",
       "        <td>Fun4All</td>\n",
       "        <td>20007</td>\n",
       "    </tr>\n",
       "    <tr>\n",
       "        <td>The Toy Store</td>\n",
       "        <td>20008</td>\n",
       "    </tr>\n",
       "    <tr>\n",
       "        <td>Toy Land</td>\n",
       "        <td>None</td>\n",
       "    </tr>\n",
       "</table>"
      ],
      "text/plain": [
       "[('Village Toys', 20005),\n",
       " ('Village Toys', 20009),\n",
       " ('Kids Place', None),\n",
       " ('Fun4All', 20006),\n",
       " ('Fun4All', 20007),\n",
       " ('The Toy Store', 20008),\n",
       " ('Toy Land', None)]"
      ]
     },
     "execution_count": 150,
     "metadata": {},
     "output_type": "execute_result"
    }
   ],
   "source": [
    "%%sql\n",
    "SELECT Customers.cust_name, Orders.order_num \n",
    "FROM Customers\n",
    "LEFT JOIN Orders\n",
    "ON Customers.cust_id = Orders.cust_id"
   ]
  },
  {
   "cell_type": "code",
   "execution_count": 178,
   "metadata": {},
   "outputs": [
    {
     "name": "stdout",
     "output_type": "stream",
     "text": [
      " * sqlite:///TYSQL.sqlite\n",
      "Done.\n"
     ]
    },
    {
     "data": {
      "text/html": [
       "<table>\n",
       "    <tr>\n",
       "        <th>order_num</th>\n",
       "        <th>order_item</th>\n",
       "        <th>prod_id</th>\n",
       "        <th>quantity</th>\n",
       "        <th>item_price</th>\n",
       "    </tr>\n",
       "    <tr>\n",
       "        <td>20007</td>\n",
       "        <td>2</td>\n",
       "        <td>BNBG01</td>\n",
       "        <td>100</td>\n",
       "        <td>2.99</td>\n",
       "    </tr>\n",
       "    <tr>\n",
       "        <td>20008</td>\n",
       "        <td>3</td>\n",
       "        <td>BNBG01</td>\n",
       "        <td>10</td>\n",
       "        <td>3.49</td>\n",
       "    </tr>\n",
       "    <tr>\n",
       "        <td>20009</td>\n",
       "        <td>1</td>\n",
       "        <td>BNBG01</td>\n",
       "        <td>250</td>\n",
       "        <td>2.49</td>\n",
       "    </tr>\n",
       "    <tr>\n",
       "        <td>20007</td>\n",
       "        <td>3</td>\n",
       "        <td>BNBG02</td>\n",
       "        <td>100</td>\n",
       "        <td>2.99</td>\n",
       "    </tr>\n",
       "    <tr>\n",
       "        <td>20008</td>\n",
       "        <td>4</td>\n",
       "        <td>BNBG02</td>\n",
       "        <td>10</td>\n",
       "        <td>3.49</td>\n",
       "    </tr>\n",
       "    <tr>\n",
       "        <td>20009</td>\n",
       "        <td>2</td>\n",
       "        <td>BNBG02</td>\n",
       "        <td>250</td>\n",
       "        <td>2.49</td>\n",
       "    </tr>\n",
       "    <tr>\n",
       "        <td>20007</td>\n",
       "        <td>4</td>\n",
       "        <td>BNBG03</td>\n",
       "        <td>100</td>\n",
       "        <td>2.99</td>\n",
       "    </tr>\n",
       "    <tr>\n",
       "        <td>20008</td>\n",
       "        <td>5</td>\n",
       "        <td>BNBG03</td>\n",
       "        <td>10</td>\n",
       "        <td>3.49</td>\n",
       "    </tr>\n",
       "    <tr>\n",
       "        <td>20009</td>\n",
       "        <td>3</td>\n",
       "        <td>BNBG03</td>\n",
       "        <td>250</td>\n",
       "        <td>2.49</td>\n",
       "    </tr>\n",
       "    <tr>\n",
       "        <td>20005</td>\n",
       "        <td>1</td>\n",
       "        <td>BR01</td>\n",
       "        <td>100</td>\n",
       "        <td>5.49</td>\n",
       "    </tr>\n",
       "    <tr>\n",
       "        <td>20006</td>\n",
       "        <td>1</td>\n",
       "        <td>BR01</td>\n",
       "        <td>20</td>\n",
       "        <td>5.99</td>\n",
       "    </tr>\n",
       "    <tr>\n",
       "        <td>20006</td>\n",
       "        <td>2</td>\n",
       "        <td>BR02</td>\n",
       "        <td>10</td>\n",
       "        <td>8.99</td>\n",
       "    </tr>\n",
       "    <tr>\n",
       "        <td>20005</td>\n",
       "        <td>2</td>\n",
       "        <td>BR03</td>\n",
       "        <td>100</td>\n",
       "        <td>10.99</td>\n",
       "    </tr>\n",
       "    <tr>\n",
       "        <td>20006</td>\n",
       "        <td>3</td>\n",
       "        <td>BR03</td>\n",
       "        <td>10</td>\n",
       "        <td>11.99</td>\n",
       "    </tr>\n",
       "    <tr>\n",
       "        <td>20007</td>\n",
       "        <td>1</td>\n",
       "        <td>BR03</td>\n",
       "        <td>50</td>\n",
       "        <td>11.49</td>\n",
       "    </tr>\n",
       "    <tr>\n",
       "        <td>20008</td>\n",
       "        <td>2</td>\n",
       "        <td>BR03</td>\n",
       "        <td>5</td>\n",
       "        <td>11.99</td>\n",
       "    </tr>\n",
       "    <tr>\n",
       "        <td>20007</td>\n",
       "        <td>5</td>\n",
       "        <td>RGAN01</td>\n",
       "        <td>50</td>\n",
       "        <td>4.49</td>\n",
       "    </tr>\n",
       "    <tr>\n",
       "        <td>20008</td>\n",
       "        <td>1</td>\n",
       "        <td>RGAN01</td>\n",
       "        <td>5</td>\n",
       "        <td>4.99</td>\n",
       "    </tr>\n",
       "</table>"
      ],
      "text/plain": [
       "[(20007, 2, 'BNBG01', 100, 2.99),\n",
       " (20008, 3, 'BNBG01', 10, 3.49),\n",
       " (20009, 1, 'BNBG01', 250, 2.49),\n",
       " (20007, 3, 'BNBG02', 100, 2.99),\n",
       " (20008, 4, 'BNBG02', 10, 3.49),\n",
       " (20009, 2, 'BNBG02', 250, 2.49),\n",
       " (20007, 4, 'BNBG03', 100, 2.99),\n",
       " (20008, 5, 'BNBG03', 10, 3.49),\n",
       " (20009, 3, 'BNBG03', 250, 2.49),\n",
       " (20005, 1, 'BR01', 100, 5.49),\n",
       " (20006, 1, 'BR01', 20, 5.99),\n",
       " (20006, 2, 'BR02', 10, 8.99),\n",
       " (20005, 2, 'BR03', 100, 10.99),\n",
       " (20006, 3, 'BR03', 10, 11.99),\n",
       " (20007, 1, 'BR03', 50, 11.49),\n",
       " (20008, 2, 'BR03', 5, 11.99),\n",
       " (20007, 5, 'RGAN01', 50, 4.49),\n",
       " (20008, 1, 'RGAN01', 5, 4.99)]"
      ]
     },
     "execution_count": 178,
     "metadata": {},
     "output_type": "execute_result"
    }
   ],
   "source": [
    "%sql SELECT * FROM OrderItems ORDER BY prod_id;"
   ]
  },
  {
   "cell_type": "code",
   "execution_count": 181,
   "metadata": {},
   "outputs": [
    {
     "name": "stdout",
     "output_type": "stream",
     "text": [
      " * sqlite:///TYSQL.sqlite\n",
      "Done.\n"
     ]
    },
    {
     "data": {
      "text/html": [
       "<table>\n",
       "    <tr>\n",
       "        <th>prod_id</th>\n",
       "        <th>prod_name</th>\n",
       "        <th>order_num</th>\n",
       "    </tr>\n",
       "    <tr>\n",
       "        <td>BNBG01</td>\n",
       "        <td>Fish bean bag toy</td>\n",
       "        <td>20007</td>\n",
       "    </tr>\n",
       "    <tr>\n",
       "        <td>BNBG01</td>\n",
       "        <td>Fish bean bag toy</td>\n",
       "        <td>20008</td>\n",
       "    </tr>\n",
       "    <tr>\n",
       "        <td>BNBG01</td>\n",
       "        <td>Fish bean bag toy</td>\n",
       "        <td>20009</td>\n",
       "    </tr>\n",
       "    <tr>\n",
       "        <td>BNBG02</td>\n",
       "        <td>Bird bean bag toy</td>\n",
       "        <td>20007</td>\n",
       "    </tr>\n",
       "    <tr>\n",
       "        <td>BNBG02</td>\n",
       "        <td>Bird bean bag toy</td>\n",
       "        <td>20008</td>\n",
       "    </tr>\n",
       "    <tr>\n",
       "        <td>BNBG02</td>\n",
       "        <td>Bird bean bag toy</td>\n",
       "        <td>20009</td>\n",
       "    </tr>\n",
       "    <tr>\n",
       "        <td>BNBG03</td>\n",
       "        <td>Rabbit bean bag toy</td>\n",
       "        <td>20007</td>\n",
       "    </tr>\n",
       "    <tr>\n",
       "        <td>BNBG03</td>\n",
       "        <td>Rabbit bean bag toy</td>\n",
       "        <td>20008</td>\n",
       "    </tr>\n",
       "    <tr>\n",
       "        <td>BNBG03</td>\n",
       "        <td>Rabbit bean bag toy</td>\n",
       "        <td>20009</td>\n",
       "    </tr>\n",
       "    <tr>\n",
       "        <td>BR01</td>\n",
       "        <td>8 inch teddy bear</td>\n",
       "        <td>20005</td>\n",
       "    </tr>\n",
       "    <tr>\n",
       "        <td>BR01</td>\n",
       "        <td>8 inch teddy bear</td>\n",
       "        <td>20006</td>\n",
       "    </tr>\n",
       "    <tr>\n",
       "        <td>BR02</td>\n",
       "        <td>12 inch teddy bear</td>\n",
       "        <td>20006</td>\n",
       "    </tr>\n",
       "    <tr>\n",
       "        <td>BR03</td>\n",
       "        <td>18 inch teddy bear</td>\n",
       "        <td>20005</td>\n",
       "    </tr>\n",
       "    <tr>\n",
       "        <td>BR03</td>\n",
       "        <td>18 inch teddy bear</td>\n",
       "        <td>20006</td>\n",
       "    </tr>\n",
       "    <tr>\n",
       "        <td>BR03</td>\n",
       "        <td>18 inch teddy bear</td>\n",
       "        <td>20007</td>\n",
       "    </tr>\n",
       "    <tr>\n",
       "        <td>BR03</td>\n",
       "        <td>18 inch teddy bear</td>\n",
       "        <td>20008</td>\n",
       "    </tr>\n",
       "    <tr>\n",
       "        <td>RGAN01</td>\n",
       "        <td>Raggedy Ann</td>\n",
       "        <td>20007</td>\n",
       "    </tr>\n",
       "    <tr>\n",
       "        <td>RGAN01</td>\n",
       "        <td>Raggedy Ann</td>\n",
       "        <td>20008</td>\n",
       "    </tr>\n",
       "    <tr>\n",
       "        <td>RYL01</td>\n",
       "        <td>King doll</td>\n",
       "        <td>None</td>\n",
       "    </tr>\n",
       "    <tr>\n",
       "        <td>RYL02</td>\n",
       "        <td>Queen doll</td>\n",
       "        <td>None</td>\n",
       "    </tr>\n",
       "</table>"
      ],
      "text/plain": [
       "[('BNBG01', 'Fish bean bag toy', 20007),\n",
       " ('BNBG01', 'Fish bean bag toy', 20008),\n",
       " ('BNBG01', 'Fish bean bag toy', 20009),\n",
       " ('BNBG02', 'Bird bean bag toy', 20007),\n",
       " ('BNBG02', 'Bird bean bag toy', 20008),\n",
       " ('BNBG02', 'Bird bean bag toy', 20009),\n",
       " ('BNBG03', 'Rabbit bean bag toy', 20007),\n",
       " ('BNBG03', 'Rabbit bean bag toy', 20008),\n",
       " ('BNBG03', 'Rabbit bean bag toy', 20009),\n",
       " ('BR01', '8 inch teddy bear', 20005),\n",
       " ('BR01', '8 inch teddy bear', 20006),\n",
       " ('BR02', '12 inch teddy bear', 20006),\n",
       " ('BR03', '18 inch teddy bear', 20005),\n",
       " ('BR03', '18 inch teddy bear', 20006),\n",
       " ('BR03', '18 inch teddy bear', 20007),\n",
       " ('BR03', '18 inch teddy bear', 20008),\n",
       " ('RGAN01', 'Raggedy Ann', 20007),\n",
       " ('RGAN01', 'Raggedy Ann', 20008),\n",
       " ('RYL01', 'King doll', None),\n",
       " ('RYL02', 'Queen doll', None)]"
      ]
     },
     "execution_count": 181,
     "metadata": {},
     "output_type": "execute_result"
    }
   ],
   "source": [
    "%%sql \n",
    "SELECT Products.prod_id, prod_name, order_num\n",
    "FROM Products\n",
    "LEFT JOIN OrderItems\n",
    "ON Products.prod_id = OrderItems.prod_id\n",
    "UNION\n",
    "SELECT Products.prod_id, prod_name, order_num \n",
    "FROM OrderItems\n",
    "LEFT JOIN Products\n",
    "ON Products.prod_id = OrderItems.prod_id\n",
    "GROUP BY Products.prod_id\n",
    "ORDER BY Products.prod_id, order_num, prod_name;"
   ]
  },
  {
   "cell_type": "code",
   "execution_count": 180,
   "metadata": {},
   "outputs": [
    {
     "name": "stdout",
     "output_type": "stream",
     "text": [
      " * sqlite:///TYSQL.sqlite\n",
      "Done.\n"
     ]
    },
    {
     "data": {
      "text/html": [
       "<table>\n",
       "    <tr>\n",
       "        <th>prod_id</th>\n",
       "        <th>vend_id</th>\n",
       "        <th>prod_name</th>\n",
       "        <th>prod_price</th>\n",
       "        <th>prod_desc</th>\n",
       "    </tr>\n",
       "    <tr>\n",
       "        <td>BR01</td>\n",
       "        <td>BRS01</td>\n",
       "        <td>8 inch teddy bear</td>\n",
       "        <td>5.99</td>\n",
       "        <td>8 inch teddy bear, comes with cap and jacket</td>\n",
       "    </tr>\n",
       "    <tr>\n",
       "        <td>BR02</td>\n",
       "        <td>BRS01</td>\n",
       "        <td>12 inch teddy bear</td>\n",
       "        <td>8.99</td>\n",
       "        <td>12 inch teddy bear, comes with cap and jacket</td>\n",
       "    </tr>\n",
       "    <tr>\n",
       "        <td>BR03</td>\n",
       "        <td>BRS01</td>\n",
       "        <td>18 inch teddy bear</td>\n",
       "        <td>11.99</td>\n",
       "        <td>18 inch teddy bear, comes with cap and jacket</td>\n",
       "    </tr>\n",
       "    <tr>\n",
       "        <td>BNBG01</td>\n",
       "        <td>DLL01</td>\n",
       "        <td>Fish bean bag toy</td>\n",
       "        <td>3.49</td>\n",
       "        <td>Fish bean bag toy, complete with bean bag worms with which to feed it</td>\n",
       "    </tr>\n",
       "    <tr>\n",
       "        <td>BNBG02</td>\n",
       "        <td>DLL01</td>\n",
       "        <td>Bird bean bag toy</td>\n",
       "        <td>3.49</td>\n",
       "        <td>Bird bean bag toy, eggs are not included</td>\n",
       "    </tr>\n",
       "    <tr>\n",
       "        <td>BNBG03</td>\n",
       "        <td>DLL01</td>\n",
       "        <td>Rabbit bean bag toy</td>\n",
       "        <td>3.49</td>\n",
       "        <td>Rabbit bean bag toy, comes with bean bag carrots</td>\n",
       "    </tr>\n",
       "    <tr>\n",
       "        <td>RGAN01</td>\n",
       "        <td>DLL01</td>\n",
       "        <td>Raggedy Ann</td>\n",
       "        <td>4.99</td>\n",
       "        <td>18 inch Raggedy Ann doll</td>\n",
       "    </tr>\n",
       "    <tr>\n",
       "        <td>RYL01</td>\n",
       "        <td>FNG01</td>\n",
       "        <td>King doll</td>\n",
       "        <td>9.49</td>\n",
       "        <td>12 inch king doll with royal garments and crown</td>\n",
       "    </tr>\n",
       "    <tr>\n",
       "        <td>RYL02</td>\n",
       "        <td>FNG01</td>\n",
       "        <td>Queen doll</td>\n",
       "        <td>9.49</td>\n",
       "        <td>12 inch queen doll with royal garments and crown</td>\n",
       "    </tr>\n",
       "</table>"
      ],
      "text/plain": [
       "[('BR01', 'BRS01', '8 inch teddy bear', 5.99, '8 inch teddy bear, comes with cap and jacket'),\n",
       " ('BR02', 'BRS01', '12 inch teddy bear', 8.99, '12 inch teddy bear, comes with cap and jacket'),\n",
       " ('BR03', 'BRS01', '18 inch teddy bear', 11.99, '18 inch teddy bear, comes with cap and jacket'),\n",
       " ('BNBG01', 'DLL01', 'Fish bean bag toy', 3.49, 'Fish bean bag toy, complete with bean bag worms with which to feed it'),\n",
       " ('BNBG02', 'DLL01', 'Bird bean bag toy', 3.49, 'Bird bean bag toy, eggs are not included'),\n",
       " ('BNBG03', 'DLL01', 'Rabbit bean bag toy', 3.49, 'Rabbit bean bag toy, comes with bean bag carrots'),\n",
       " ('RGAN01', 'DLL01', 'Raggedy Ann', 4.99, '18 inch Raggedy Ann doll'),\n",
       " ('RYL01', 'FNG01', 'King doll', 9.49, '12 inch king doll with royal garments and crown'),\n",
       " ('RYL02', 'FNG01', 'Queen doll', 9.49, '12 inch queen doll with royal garments and crown')]"
      ]
     },
     "execution_count": 180,
     "metadata": {},
     "output_type": "execute_result"
    }
   ],
   "source": [
    "%sql SELECT * FROM Products;"
   ]
  },
  {
   "cell_type": "code",
   "execution_count": 188,
   "metadata": {},
   "outputs": [
    {
     "name": "stdout",
     "output_type": "stream",
     "text": [
      " * sqlite:///TYSQL.sqlite\n",
      "Done.\n"
     ]
    },
    {
     "data": {
      "text/html": [
       "<table>\n",
       "    <tr>\n",
       "        <th>prod_id</th>\n",
       "        <th>quantity</th>\n",
       "    </tr>\n",
       "    <tr>\n",
       "        <td>BNBG01</td>\n",
       "        <td>10</td>\n",
       "    </tr>\n",
       "    <tr>\n",
       "        <td>BNBG01</td>\n",
       "        <td>100</td>\n",
       "    </tr>\n",
       "    <tr>\n",
       "        <td>BNBG01</td>\n",
       "        <td>250</td>\n",
       "    </tr>\n",
       "    <tr>\n",
       "        <td>BNBG02</td>\n",
       "        <td>10</td>\n",
       "    </tr>\n",
       "    <tr>\n",
       "        <td>BNBG02</td>\n",
       "        <td>100</td>\n",
       "    </tr>\n",
       "    <tr>\n",
       "        <td>BNBG02</td>\n",
       "        <td>250</td>\n",
       "    </tr>\n",
       "    <tr>\n",
       "        <td>BNBG03</td>\n",
       "        <td>10</td>\n",
       "    </tr>\n",
       "    <tr>\n",
       "        <td>BNBG03</td>\n",
       "        <td>100</td>\n",
       "    </tr>\n",
       "    <tr>\n",
       "        <td>BNBG03</td>\n",
       "        <td>250</td>\n",
       "    </tr>\n",
       "    <tr>\n",
       "        <td>BR01</td>\n",
       "        <td>100</td>\n",
       "    </tr>\n",
       "    <tr>\n",
       "        <td>BR03</td>\n",
       "        <td>100</td>\n",
       "    </tr>\n",
       "</table>"
      ],
      "text/plain": [
       "[('BNBG01', 10),\n",
       " ('BNBG01', 100),\n",
       " ('BNBG01', 250),\n",
       " ('BNBG02', 10),\n",
       " ('BNBG02', 100),\n",
       " ('BNBG02', 250),\n",
       " ('BNBG03', 10),\n",
       " ('BNBG03', 100),\n",
       " ('BNBG03', 250),\n",
       " ('BR01', 100),\n",
       " ('BR03', 100)]"
      ]
     },
     "execution_count": 188,
     "metadata": {},
     "output_type": "execute_result"
    }
   ],
   "source": [
    "%%sql\n",
    "SELECT prod_id, quantity\n",
    "FROM OrderItems\n",
    "WHERE quantity = 100\n",
    "UNION\n",
    "SELECT prod_id, quantity\n",
    "FROM OrderItems\n",
    "WHERE prod_id LIKE 'BNBG%';\n"
   ]
  },
  {
   "cell_type": "code",
   "execution_count": 189,
   "metadata": {},
   "outputs": [
    {
     "name": "stdout",
     "output_type": "stream",
     "text": [
      " * sqlite:///TYSQL.sqlite\n",
      "Done.\n"
     ]
    },
    {
     "data": {
      "text/html": [
       "<table>\n",
       "    <tr>\n",
       "        <th>prod_id</th>\n",
       "        <th>quantity</th>\n",
       "    </tr>\n",
       "    <tr>\n",
       "        <td>BR01</td>\n",
       "        <td>100</td>\n",
       "    </tr>\n",
       "    <tr>\n",
       "        <td>BR03</td>\n",
       "        <td>100</td>\n",
       "    </tr>\n",
       "    <tr>\n",
       "        <td>BNBG01</td>\n",
       "        <td>100</td>\n",
       "    </tr>\n",
       "    <tr>\n",
       "        <td>BNBG02</td>\n",
       "        <td>100</td>\n",
       "    </tr>\n",
       "    <tr>\n",
       "        <td>BNBG03</td>\n",
       "        <td>100</td>\n",
       "    </tr>\n",
       "    <tr>\n",
       "        <td>BNBG01</td>\n",
       "        <td>10</td>\n",
       "    </tr>\n",
       "    <tr>\n",
       "        <td>BNBG02</td>\n",
       "        <td>10</td>\n",
       "    </tr>\n",
       "    <tr>\n",
       "        <td>BNBG03</td>\n",
       "        <td>10</td>\n",
       "    </tr>\n",
       "    <tr>\n",
       "        <td>BNBG01</td>\n",
       "        <td>250</td>\n",
       "    </tr>\n",
       "    <tr>\n",
       "        <td>BNBG02</td>\n",
       "        <td>250</td>\n",
       "    </tr>\n",
       "    <tr>\n",
       "        <td>BNBG03</td>\n",
       "        <td>250</td>\n",
       "    </tr>\n",
       "</table>"
      ],
      "text/plain": [
       "[('BR01', 100),\n",
       " ('BR03', 100),\n",
       " ('BNBG01', 100),\n",
       " ('BNBG02', 100),\n",
       " ('BNBG03', 100),\n",
       " ('BNBG01', 10),\n",
       " ('BNBG02', 10),\n",
       " ('BNBG03', 10),\n",
       " ('BNBG01', 250),\n",
       " ('BNBG02', 250),\n",
       " ('BNBG03', 250)]"
      ]
     },
     "execution_count": 189,
     "metadata": {},
     "output_type": "execute_result"
    }
   ],
   "source": [
    "%%sql\n",
    "SELECT prod_id, quantity\n",
    "FROM OrderItems\n",
    "WHERE quantity = 100\n",
    "OR prod_id LIKE 'BNBG%';"
   ]
  },
  {
   "cell_type": "code",
   "execution_count": 190,
   "metadata": {},
   "outputs": [
    {
     "name": "stdout",
     "output_type": "stream",
     "text": [
      " * sqlite:///TYSQL.sqlite\n",
      "Done.\n"
     ]
    },
    {
     "data": {
      "text/html": [
       "<table>\n",
       "    <tr>\n",
       "        <th>prod_name</th>\n",
       "    </tr>\n",
       "    <tr>\n",
       "        <td>12 inch teddy bear</td>\n",
       "    </tr>\n",
       "    <tr>\n",
       "        <td>18 inch teddy bear</td>\n",
       "    </tr>\n",
       "    <tr>\n",
       "        <td>8 inch teddy bear</td>\n",
       "    </tr>\n",
       "    <tr>\n",
       "        <td>Bird bean bag toy</td>\n",
       "    </tr>\n",
       "    <tr>\n",
       "        <td>Fish bean bag toy</td>\n",
       "    </tr>\n",
       "    <tr>\n",
       "        <td>Fun4All</td>\n",
       "    </tr>\n",
       "    <tr>\n",
       "        <td>Kids Place</td>\n",
       "    </tr>\n",
       "    <tr>\n",
       "        <td>King doll</td>\n",
       "    </tr>\n",
       "    <tr>\n",
       "        <td>Queen doll</td>\n",
       "    </tr>\n",
       "    <tr>\n",
       "        <td>Rabbit bean bag toy</td>\n",
       "    </tr>\n",
       "    <tr>\n",
       "        <td>Raggedy Ann</td>\n",
       "    </tr>\n",
       "    <tr>\n",
       "        <td>The Toy Store</td>\n",
       "    </tr>\n",
       "    <tr>\n",
       "        <td>Toy Land</td>\n",
       "    </tr>\n",
       "    <tr>\n",
       "        <td>Village Toys</td>\n",
       "    </tr>\n",
       "</table>"
      ],
      "text/plain": [
       "[('12 inch teddy bear',),\n",
       " ('18 inch teddy bear',),\n",
       " ('8 inch teddy bear',),\n",
       " ('Bird bean bag toy',),\n",
       " ('Fish bean bag toy',),\n",
       " ('Fun4All',),\n",
       " ('Kids Place',),\n",
       " ('King doll',),\n",
       " ('Queen doll',),\n",
       " ('Rabbit bean bag toy',),\n",
       " ('Raggedy Ann',),\n",
       " ('The Toy Store',),\n",
       " ('Toy Land',),\n",
       " ('Village Toys',)]"
      ]
     },
     "execution_count": 190,
     "metadata": {},
     "output_type": "execute_result"
    }
   ],
   "source": [
    "%%sql\n",
    "SELECT prod_name\n",
    "FROM Products\n",
    "UNION\n",
    "SELECT cust_name\n",
    "FROM Customers\n",
    "ORDER BY prod_name;"
   ]
  },
  {
   "cell_type": "code",
   "execution_count": 191,
   "metadata": {},
   "outputs": [
    {
     "name": "stdout",
     "output_type": "stream",
     "text": [
      " * sqlite:///TYSQL.sqlite\n",
      "(sqlite3.OperationalError) near \"INTO\": syntax error\n",
      "[SQL: SELECT * INTO Baba FROM Customers;]\n",
      "(Background on this error at: http://sqlalche.me/e/e3q8)\n"
     ]
    }
   ],
   "source": [
    "%sql SELECT * INTO Baba FROM Customers;"
   ]
  },
  {
   "cell_type": "code",
   "execution_count": 192,
   "metadata": {},
   "outputs": [
    {
     "name": "stdout",
     "output_type": "stream",
     "text": [
      " * sqlite:///TYSQL.sqlite\n",
      "Done.\n"
     ]
    },
    {
     "data": {
      "text/html": [
       "<table>\n",
       "    <tr>\n",
       "        <th>cust_id</th>\n",
       "        <th>cust_name</th>\n",
       "        <th>cust_address</th>\n",
       "        <th>cust_city</th>\n",
       "        <th>cust_state</th>\n",
       "        <th>cust_zip</th>\n",
       "        <th>cust_country</th>\n",
       "        <th>cust_contact</th>\n",
       "        <th>cust_email</th>\n",
       "    </tr>\n",
       "    <tr>\n",
       "        <td>1000000003</td>\n",
       "        <td>Fun4All</td>\n",
       "        <td>1 Sunny Place</td>\n",
       "        <td>Muncie</td>\n",
       "        <td>IN</td>\n",
       "        <td>42222</td>\n",
       "        <td>USA</td>\n",
       "        <td>Jim Jones</td>\n",
       "        <td>jjones@fun4all.com</td>\n",
       "    </tr>\n",
       "</table>"
      ],
      "text/plain": [
       "[('1000000003', 'Fun4All', '1 Sunny Place', 'Muncie', 'IN', '42222', 'USA', 'Jim Jones', 'jjones@fun4all.com')]"
      ]
     },
     "execution_count": 192,
     "metadata": {},
     "output_type": "execute_result"
    }
   ],
   "source": [
    "%sql SELECT * FROM Customers ORDER BY cust_name ASC LIMIT 1;"
   ]
  },
  {
   "cell_type": "code",
   "execution_count": 226,
   "metadata": {},
   "outputs": [
    {
     "name": "stdout",
     "output_type": "stream",
     "text": [
      " * sqlite:///TYSQL.sqlite\n",
      "1 rows affected.\n"
     ]
    },
    {
     "data": {
      "text/plain": [
       "[]"
      ]
     },
     "execution_count": 226,
     "metadata": {},
     "output_type": "execute_result"
    }
   ],
   "source": [
    "%%sql\n",
    "INSERT INTO Customers(cust_id, \n",
    "                      cust_name, \n",
    "                      cust_address, \n",
    "                      cust_city, \n",
    "                      cust_state, \n",
    "                      cust_zip, \n",
    "                      cust_country, \n",
    "                      cust_contact, \n",
    "                      cust_email)\n",
    "VALUES (1000000009, 'Yoyo', '1 Yo Pl', 'Yoland', 'YL', 38675, 'USA', 'Yo Si', 'yo@yo');"
   ]
  },
  {
   "cell_type": "code",
   "execution_count": 197,
   "metadata": {},
   "outputs": [
    {
     "name": "stdout",
     "output_type": "stream",
     "text": [
      " * sqlite:///TYSQL.sqlite\n",
      "Done.\n"
     ]
    },
    {
     "data": {
      "text/plain": [
       "[]"
      ]
     },
     "execution_count": 197,
     "metadata": {},
     "output_type": "execute_result"
    }
   ],
   "source": [
    "%sql CREATE TABLE Orders_Bkp AS SELECT * FROM Orders;"
   ]
  },
  {
   "cell_type": "code",
   "execution_count": 198,
   "metadata": {},
   "outputs": [
    {
     "name": "stdout",
     "output_type": "stream",
     "text": [
      " * sqlite:///TYSQL.sqlite\n",
      "Done.\n"
     ]
    },
    {
     "data": {
      "text/plain": [
       "[]"
      ]
     },
     "execution_count": 198,
     "metadata": {},
     "output_type": "execute_result"
    }
   ],
   "source": [
    "%sql CREATE TABLE OrderItems_Bkp AS SELECT * FROM OrderItems;"
   ]
  },
  {
   "cell_type": "code",
   "execution_count": 205,
   "metadata": {},
   "outputs": [
    {
     "name": "stdout",
     "output_type": "stream",
     "text": [
      " * sqlite:///TYSQL.sqlite\n",
      "1 rows affected.\n"
     ]
    },
    {
     "data": {
      "text/plain": [
       "[]"
      ]
     },
     "execution_count": 205,
     "metadata": {},
     "output_type": "execute_result"
    }
   ],
   "source": [
    "%%sql\n",
    "UPDATE Customers\n",
    "SET cust_email=NULL\n",
    "WHERE cust_email LIKE 'yo@%';"
   ]
  },
  {
   "cell_type": "code",
   "execution_count": 206,
   "metadata": {},
   "outputs": [
    {
     "name": "stdout",
     "output_type": "stream",
     "text": [
      " * sqlite:///TYSQL.sqlite\n",
      "Done.\n"
     ]
    },
    {
     "data": {
      "text/html": [
       "<table>\n",
       "    <tr>\n",
       "        <th>cust_id</th>\n",
       "        <th>cust_name</th>\n",
       "        <th>cust_address</th>\n",
       "        <th>cust_city</th>\n",
       "        <th>cust_state</th>\n",
       "        <th>cust_zip</th>\n",
       "        <th>cust_country</th>\n",
       "        <th>cust_contact</th>\n",
       "        <th>cust_email</th>\n",
       "    </tr>\n",
       "    <tr>\n",
       "        <td>1000000001</td>\n",
       "        <td>Village Toys</td>\n",
       "        <td>200 Maple Lane</td>\n",
       "        <td>Detroit</td>\n",
       "        <td>MI</td>\n",
       "        <td>44444</td>\n",
       "        <td>USA</td>\n",
       "        <td>John Smith</td>\n",
       "        <td>sales@villagetoys.com</td>\n",
       "    </tr>\n",
       "    <tr>\n",
       "        <td>1000000002</td>\n",
       "        <td>Kids Place</td>\n",
       "        <td>333 South Lake Drive</td>\n",
       "        <td>Columbus</td>\n",
       "        <td>OH</td>\n",
       "        <td>43333</td>\n",
       "        <td>USA</td>\n",
       "        <td>Michelle Green</td>\n",
       "        <td>None</td>\n",
       "    </tr>\n",
       "    <tr>\n",
       "        <td>1000000003</td>\n",
       "        <td>Fun4All</td>\n",
       "        <td>1 Sunny Place</td>\n",
       "        <td>Muncie</td>\n",
       "        <td>IN</td>\n",
       "        <td>42222</td>\n",
       "        <td>USA</td>\n",
       "        <td>Jim Jones</td>\n",
       "        <td>jjones@fun4all.com</td>\n",
       "    </tr>\n",
       "    <tr>\n",
       "        <td>1000000004</td>\n",
       "        <td>Fun4All</td>\n",
       "        <td>829 Riverside Drive</td>\n",
       "        <td>Phoenix</td>\n",
       "        <td>AZ</td>\n",
       "        <td>88888</td>\n",
       "        <td>USA</td>\n",
       "        <td>Denise L. Stephens</td>\n",
       "        <td>dstephens@fun4all.com</td>\n",
       "    </tr>\n",
       "    <tr>\n",
       "        <td>1000000005</td>\n",
       "        <td>The Toy Store</td>\n",
       "        <td>4545 53rd Street</td>\n",
       "        <td>Chicago</td>\n",
       "        <td>IL</td>\n",
       "        <td>54545</td>\n",
       "        <td>USA</td>\n",
       "        <td>Kim Howard</td>\n",
       "        <td>kim@thetoystore.com</td>\n",
       "    </tr>\n",
       "    <tr>\n",
       "        <td>1000000006</td>\n",
       "        <td>Toy Land</td>\n",
       "        <td>123 Any Street</td>\n",
       "        <td>New York</td>\n",
       "        <td>NY</td>\n",
       "        <td>11111</td>\n",
       "        <td>USA</td>\n",
       "        <td>None</td>\n",
       "        <td>None</td>\n",
       "    </tr>\n",
       "    <tr>\n",
       "        <td>1000000009</td>\n",
       "        <td>Yoyo</td>\n",
       "        <td>1 Yo Pl</td>\n",
       "        <td>Yoland</td>\n",
       "        <td>YL</td>\n",
       "        <td>38675</td>\n",
       "        <td>USA</td>\n",
       "        <td>Yo Si</td>\n",
       "        <td>None</td>\n",
       "    </tr>\n",
       "</table>"
      ],
      "text/plain": [
       "[('1000000001', 'Village Toys', '200 Maple Lane', 'Detroit', 'MI', '44444', 'USA', 'John Smith', 'sales@villagetoys.com'),\n",
       " ('1000000002', 'Kids Place', '333 South Lake Drive', 'Columbus', 'OH', '43333', 'USA', 'Michelle Green', None),\n",
       " ('1000000003', 'Fun4All', '1 Sunny Place', 'Muncie', 'IN', '42222', 'USA', 'Jim Jones', 'jjones@fun4all.com'),\n",
       " ('1000000004', 'Fun4All', '829 Riverside Drive', 'Phoenix', 'AZ', '88888', 'USA', 'Denise L. Stephens', 'dstephens@fun4all.com'),\n",
       " ('1000000005', 'The Toy Store', '4545 53rd Street', 'Chicago', 'IL', '54545', 'USA', 'Kim Howard', 'kim@thetoystore.com'),\n",
       " ('1000000006', 'Toy Land', '123 Any Street', 'New York', 'NY', '11111', 'USA', None, None),\n",
       " ('1000000009', 'Yoyo', '1 Yo Pl', 'Yoland', 'YL', '38675', 'USA', 'Yo Si', None)]"
      ]
     },
     "execution_count": 206,
     "metadata": {},
     "output_type": "execute_result"
    }
   ],
   "source": [
    "%sql SELECT * FROM Customers;"
   ]
  },
  {
   "cell_type": "code",
   "execution_count": 211,
   "metadata": {},
   "outputs": [
    {
     "name": "stdout",
     "output_type": "stream",
     "text": [
      " * sqlite:///TYSQL.sqlite\n",
      "6 rows affected.\n"
     ]
    },
    {
     "data": {
      "text/plain": [
       "[]"
      ]
     },
     "execution_count": 211,
     "metadata": {},
     "output_type": "execute_result"
    }
   ],
   "source": [
    "%%sql\n",
    "UPDATE Vendors\n",
    "SET vend_state = UPPER(vend_state)\n",
    "WHERE vend_id IS NOT NULL;"
   ]
  },
  {
   "cell_type": "code",
   "execution_count": 213,
   "metadata": {},
   "outputs": [
    {
     "name": "stdout",
     "output_type": "stream",
     "text": [
      " * sqlite:///TYSQL.sqlite\n",
      "7 rows affected.\n"
     ]
    },
    {
     "data": {
      "text/plain": [
       "[]"
      ]
     },
     "execution_count": 213,
     "metadata": {},
     "output_type": "execute_result"
    }
   ],
   "source": [
    "%%sql\n",
    "UPDATE Customers\n",
    "SET cust_state = UPPER(cust_state)\n",
    "WHERE cust_id IS NOT NULL;"
   ]
  },
  {
   "cell_type": "code",
   "execution_count": 215,
   "metadata": {},
   "outputs": [
    {
     "name": "stdout",
     "output_type": "stream",
     "text": [
      " * sqlite:///TYSQL.sqlite\n",
      "1 rows affected.\n"
     ]
    },
    {
     "data": {
      "text/plain": [
       "[]"
      ]
     },
     "execution_count": 215,
     "metadata": {},
     "output_type": "execute_result"
    }
   ],
   "source": [
    "%%sql\n",
    "DELETE FROM Customers\n",
    "WHERE cust_id=1000000009;"
   ]
  },
  {
   "cell_type": "code",
   "execution_count": 216,
   "metadata": {},
   "outputs": [
    {
     "name": "stdout",
     "output_type": "stream",
     "text": [
      " * sqlite:///TYSQL.sqlite\n",
      "Done.\n"
     ]
    },
    {
     "data": {
      "text/html": [
       "<table>\n",
       "    <tr>\n",
       "        <th>cust_id</th>\n",
       "        <th>cust_name</th>\n",
       "        <th>cust_address</th>\n",
       "        <th>cust_city</th>\n",
       "        <th>cust_state</th>\n",
       "        <th>cust_zip</th>\n",
       "        <th>cust_country</th>\n",
       "        <th>cust_contact</th>\n",
       "        <th>cust_email</th>\n",
       "    </tr>\n",
       "    <tr>\n",
       "        <td>1000000001</td>\n",
       "        <td>Village Toys</td>\n",
       "        <td>200 Maple Lane</td>\n",
       "        <td>Detroit</td>\n",
       "        <td>MI</td>\n",
       "        <td>44444</td>\n",
       "        <td>USA</td>\n",
       "        <td>John Smith</td>\n",
       "        <td>sales@villagetoys.com</td>\n",
       "    </tr>\n",
       "    <tr>\n",
       "        <td>1000000002</td>\n",
       "        <td>Kids Place</td>\n",
       "        <td>333 South Lake Drive</td>\n",
       "        <td>Columbus</td>\n",
       "        <td>OH</td>\n",
       "        <td>43333</td>\n",
       "        <td>USA</td>\n",
       "        <td>Michelle Green</td>\n",
       "        <td>None</td>\n",
       "    </tr>\n",
       "    <tr>\n",
       "        <td>1000000003</td>\n",
       "        <td>Fun4All</td>\n",
       "        <td>1 Sunny Place</td>\n",
       "        <td>Muncie</td>\n",
       "        <td>IN</td>\n",
       "        <td>42222</td>\n",
       "        <td>USA</td>\n",
       "        <td>Jim Jones</td>\n",
       "        <td>jjones@fun4all.com</td>\n",
       "    </tr>\n",
       "    <tr>\n",
       "        <td>1000000004</td>\n",
       "        <td>Fun4All</td>\n",
       "        <td>829 Riverside Drive</td>\n",
       "        <td>Phoenix</td>\n",
       "        <td>AZ</td>\n",
       "        <td>88888</td>\n",
       "        <td>USA</td>\n",
       "        <td>Denise L. Stephens</td>\n",
       "        <td>dstephens@fun4all.com</td>\n",
       "    </tr>\n",
       "    <tr>\n",
       "        <td>1000000005</td>\n",
       "        <td>The Toy Store</td>\n",
       "        <td>4545 53rd Street</td>\n",
       "        <td>Chicago</td>\n",
       "        <td>IL</td>\n",
       "        <td>54545</td>\n",
       "        <td>USA</td>\n",
       "        <td>Kim Howard</td>\n",
       "        <td>kim@thetoystore.com</td>\n",
       "    </tr>\n",
       "    <tr>\n",
       "        <td>1000000006</td>\n",
       "        <td>Toy Land</td>\n",
       "        <td>123 Any Street</td>\n",
       "        <td>New York</td>\n",
       "        <td>NY</td>\n",
       "        <td>11111</td>\n",
       "        <td>USA</td>\n",
       "        <td>None</td>\n",
       "        <td>None</td>\n",
       "    </tr>\n",
       "</table>"
      ],
      "text/plain": [
       "[('1000000001', 'Village Toys', '200 Maple Lane', 'Detroit', 'MI', '44444', 'USA', 'John Smith', 'sales@villagetoys.com'),\n",
       " ('1000000002', 'Kids Place', '333 South Lake Drive', 'Columbus', 'OH', '43333', 'USA', 'Michelle Green', None),\n",
       " ('1000000003', 'Fun4All', '1 Sunny Place', 'Muncie', 'IN', '42222', 'USA', 'Jim Jones', 'jjones@fun4all.com'),\n",
       " ('1000000004', 'Fun4All', '829 Riverside Drive', 'Phoenix', 'AZ', '88888', 'USA', 'Denise L. Stephens', 'dstephens@fun4all.com'),\n",
       " ('1000000005', 'The Toy Store', '4545 53rd Street', 'Chicago', 'IL', '54545', 'USA', 'Kim Howard', 'kim@thetoystore.com'),\n",
       " ('1000000006', 'Toy Land', '123 Any Street', 'New York', 'NY', '11111', 'USA', None, None)]"
      ]
     },
     "execution_count": 216,
     "metadata": {},
     "output_type": "execute_result"
    }
   ],
   "source": [
    "%%sql SELECT *\n",
    "FROM Customers;"
   ]
  },
  {
   "cell_type": "code",
   "execution_count": 217,
   "metadata": {},
   "outputs": [
    {
     "name": "stdout",
     "output_type": "stream",
     "text": [
      " * sqlite:///TYSQL.sqlite\n",
      "Done.\n"
     ]
    },
    {
     "data": {
      "text/plain": [
       "[]"
      ]
     },
     "execution_count": 217,
     "metadata": {},
     "output_type": "execute_result"
    }
   ],
   "source": [
    "%sql ALTER TABLE Vendors ADD COLUMN vend_web VARCHAR(100) NOT NULL DEFAULT 'abc@example.com';"
   ]
  },
  {
   "cell_type": "code",
   "execution_count": 218,
   "metadata": {},
   "outputs": [
    {
     "name": "stdout",
     "output_type": "stream",
     "text": [
      " * sqlite:///TYSQL.sqlite\n",
      "Done.\n"
     ]
    },
    {
     "data": {
      "text/html": [
       "<table>\n",
       "    <tr>\n",
       "        <th>vend_id</th>\n",
       "        <th>vend_name</th>\n",
       "        <th>vend_address</th>\n",
       "        <th>vend_city</th>\n",
       "        <th>vend_state</th>\n",
       "        <th>vend_zip</th>\n",
       "        <th>vend_country</th>\n",
       "        <th>vend_web</th>\n",
       "    </tr>\n",
       "    <tr>\n",
       "        <td>BRS01</td>\n",
       "        <td>Bears R Us</td>\n",
       "        <td>123 Main Street</td>\n",
       "        <td>Bear Town</td>\n",
       "        <td>MI</td>\n",
       "        <td>44444</td>\n",
       "        <td>USA</td>\n",
       "        <td>abc@example.com</td>\n",
       "    </tr>\n",
       "    <tr>\n",
       "        <td>BRE02</td>\n",
       "        <td>Bear Emporium</td>\n",
       "        <td>500 Park Street</td>\n",
       "        <td>Anytown</td>\n",
       "        <td>OH</td>\n",
       "        <td>44333</td>\n",
       "        <td>USA</td>\n",
       "        <td>abc@example.com</td>\n",
       "    </tr>\n",
       "    <tr>\n",
       "        <td>DLL01</td>\n",
       "        <td>Doll House Inc.</td>\n",
       "        <td>555 High Street</td>\n",
       "        <td>Dollsville</td>\n",
       "        <td>CA</td>\n",
       "        <td>99999</td>\n",
       "        <td>USA</td>\n",
       "        <td>abc@example.com</td>\n",
       "    </tr>\n",
       "    <tr>\n",
       "        <td>FRB01</td>\n",
       "        <td>Furball Inc.</td>\n",
       "        <td>1000 5th Avenue</td>\n",
       "        <td>New York</td>\n",
       "        <td>NY</td>\n",
       "        <td>11111</td>\n",
       "        <td>USA</td>\n",
       "        <td>abc@example.com</td>\n",
       "    </tr>\n",
       "    <tr>\n",
       "        <td>FNG01</td>\n",
       "        <td>Fun and Games</td>\n",
       "        <td>42 Galaxy Road</td>\n",
       "        <td>London</td>\n",
       "        <td>None</td>\n",
       "        <td>N16 6PS</td>\n",
       "        <td>England</td>\n",
       "        <td>abc@example.com</td>\n",
       "    </tr>\n",
       "    <tr>\n",
       "        <td>JTS01</td>\n",
       "        <td>Jouets et ours</td>\n",
       "        <td>1 Rue Amusement</td>\n",
       "        <td>Paris</td>\n",
       "        <td>None</td>\n",
       "        <td>45678</td>\n",
       "        <td>France</td>\n",
       "        <td>abc@example.com</td>\n",
       "    </tr>\n",
       "</table>"
      ],
      "text/plain": [
       "[('BRS01', 'Bears R Us', '123 Main Street', 'Bear Town', 'MI', '44444', 'USA', 'abc@example.com'),\n",
       " ('BRE02', 'Bear Emporium', '500 Park Street', 'Anytown', 'OH', '44333', 'USA', 'abc@example.com'),\n",
       " ('DLL01', 'Doll House Inc.', '555 High Street', 'Dollsville', 'CA', '99999', 'USA', 'abc@example.com'),\n",
       " ('FRB01', 'Furball Inc.', '1000 5th Avenue', 'New York', 'NY', '11111', 'USA', 'abc@example.com'),\n",
       " ('FNG01', 'Fun and Games', '42 Galaxy Road', 'London', None, 'N16 6PS', 'England', 'abc@example.com'),\n",
       " ('JTS01', 'Jouets et ours', '1 Rue Amusement', 'Paris', None, '45678', 'France', 'abc@example.com')]"
      ]
     },
     "execution_count": 218,
     "metadata": {},
     "output_type": "execute_result"
    }
   ],
   "source": [
    "%sql SELECT * FROM Vendors;"
   ]
  },
  {
   "cell_type": "code",
   "execution_count": 224,
   "metadata": {},
   "outputs": [
    {
     "name": "stdout",
     "output_type": "stream",
     "text": [
      " * sqlite:///TYSQL.sqlite\n",
      "Done.\n"
     ]
    },
    {
     "data": {
      "text/plain": [
       "[]"
      ]
     },
     "execution_count": 224,
     "metadata": {},
     "output_type": "execute_result"
    }
   ],
   "source": [
    "%%sql \n",
    "CREATE VIEW CustomersWithOrders AS\n",
    "SELECT * \n",
    "FROM Customers\n",
    "INNER JOIN Orders\n",
    "ON Customers.cust_id=Orders.cust_id;\n"
   ]
  },
  {
   "cell_type": "code",
   "execution_count": 225,
   "metadata": {},
   "outputs": [
    {
     "name": "stdout",
     "output_type": "stream",
     "text": [
      " * sqlite:///TYSQL.sqlite\n",
      "Done.\n"
     ]
    },
    {
     "data": {
      "text/html": [
       "<table>\n",
       "    <tr>\n",
       "        <th>cust_id</th>\n",
       "        <th>cust_name</th>\n",
       "        <th>cust_address</th>\n",
       "        <th>cust_city</th>\n",
       "        <th>cust_state</th>\n",
       "        <th>cust_zip</th>\n",
       "        <th>cust_country</th>\n",
       "        <th>cust_contact</th>\n",
       "        <th>cust_email</th>\n",
       "        <th>order_num</th>\n",
       "        <th>order_date</th>\n",
       "        <th>cust_id:1</th>\n",
       "    </tr>\n",
       "    <tr>\n",
       "        <td>1000000001</td>\n",
       "        <td>Village Toys</td>\n",
       "        <td>200 Maple Lane</td>\n",
       "        <td>Detroit</td>\n",
       "        <td>MI</td>\n",
       "        <td>44444</td>\n",
       "        <td>USA</td>\n",
       "        <td>John Smith</td>\n",
       "        <td>sales@villagetoys.com</td>\n",
       "        <td>20005</td>\n",
       "        <td>2020-05-01</td>\n",
       "        <td>1000000001</td>\n",
       "    </tr>\n",
       "    <tr>\n",
       "        <td>1000000003</td>\n",
       "        <td>Fun4All</td>\n",
       "        <td>1 Sunny Place</td>\n",
       "        <td>Muncie</td>\n",
       "        <td>IN</td>\n",
       "        <td>42222</td>\n",
       "        <td>USA</td>\n",
       "        <td>Jim Jones</td>\n",
       "        <td>jjones@fun4all.com</td>\n",
       "        <td>20006</td>\n",
       "        <td>2020-01-12</td>\n",
       "        <td>1000000003</td>\n",
       "    </tr>\n",
       "    <tr>\n",
       "        <td>1000000004</td>\n",
       "        <td>Fun4All</td>\n",
       "        <td>829 Riverside Drive</td>\n",
       "        <td>Phoenix</td>\n",
       "        <td>AZ</td>\n",
       "        <td>88888</td>\n",
       "        <td>USA</td>\n",
       "        <td>Denise L. Stephens</td>\n",
       "        <td>dstephens@fun4all.com</td>\n",
       "        <td>20007</td>\n",
       "        <td>2020-01-30</td>\n",
       "        <td>1000000004</td>\n",
       "    </tr>\n",
       "    <tr>\n",
       "        <td>1000000005</td>\n",
       "        <td>The Toy Store</td>\n",
       "        <td>4545 53rd Street</td>\n",
       "        <td>Chicago</td>\n",
       "        <td>IL</td>\n",
       "        <td>54545</td>\n",
       "        <td>USA</td>\n",
       "        <td>Kim Howard</td>\n",
       "        <td>kim@thetoystore.com</td>\n",
       "        <td>20008</td>\n",
       "        <td>2020-02-03</td>\n",
       "        <td>1000000005</td>\n",
       "    </tr>\n",
       "    <tr>\n",
       "        <td>1000000001</td>\n",
       "        <td>Village Toys</td>\n",
       "        <td>200 Maple Lane</td>\n",
       "        <td>Detroit</td>\n",
       "        <td>MI</td>\n",
       "        <td>44444</td>\n",
       "        <td>USA</td>\n",
       "        <td>John Smith</td>\n",
       "        <td>sales@villagetoys.com</td>\n",
       "        <td>20009</td>\n",
       "        <td>2020-02-08</td>\n",
       "        <td>1000000001</td>\n",
       "    </tr>\n",
       "</table>"
      ],
      "text/plain": [
       "[('1000000001', 'Village Toys', '200 Maple Lane', 'Detroit', 'MI', '44444', 'USA', 'John Smith', 'sales@villagetoys.com', 20005, '2020-05-01', '1000000001'),\n",
       " ('1000000003', 'Fun4All', '1 Sunny Place', 'Muncie', 'IN', '42222', 'USA', 'Jim Jones', 'jjones@fun4all.com', 20006, '2020-01-12', '1000000003'),\n",
       " ('1000000004', 'Fun4All', '829 Riverside Drive', 'Phoenix', 'AZ', '88888', 'USA', 'Denise L. Stephens', 'dstephens@fun4all.com', 20007, '2020-01-30', '1000000004'),\n",
       " ('1000000005', 'The Toy Store', '4545 53rd Street', 'Chicago', 'IL', '54545', 'USA', 'Kim Howard', 'kim@thetoystore.com', 20008, '2020-02-03', '1000000005'),\n",
       " ('1000000001', 'Village Toys', '200 Maple Lane', 'Detroit', 'MI', '44444', 'USA', 'John Smith', 'sales@villagetoys.com', 20009, '2020-02-08', '1000000001')]"
      ]
     },
     "execution_count": 225,
     "metadata": {},
     "output_type": "execute_result"
    }
   ],
   "source": [
    "%sql SELECT * FROM CustomersWithOrders;"
   ]
  },
  {
   "cell_type": "code",
   "execution_count": 227,
   "metadata": {},
   "outputs": [
    {
     "name": "stdout",
     "output_type": "stream",
     "text": [
      " * sqlite:///TYSQL.sqlite\n",
      "Done.\n"
     ]
    },
    {
     "data": {
      "text/plain": [
       "[]"
      ]
     },
     "execution_count": 227,
     "metadata": {},
     "output_type": "execute_result"
    }
   ],
   "source": [
    "%%sql \n",
    "CREATE VIEW Custu AS\n",
    "SELECT * \n",
    "FROM Customers;"
   ]
  },
  {
   "cell_type": "code",
   "execution_count": 232,
   "metadata": {},
   "outputs": [
    {
     "name": "stdout",
     "output_type": "stream",
     "text": [
      " * sqlite:///TYSQL.sqlite\n",
      "Done.\n"
     ]
    },
    {
     "data": {
      "text/html": [
       "<table>\n",
       "    <tr>\n",
       "        <th>cust_id</th>\n",
       "        <th>cust_name</th>\n",
       "        <th>cust_address</th>\n",
       "        <th>cust_city</th>\n",
       "        <th>cust_state</th>\n",
       "        <th>cust_zip</th>\n",
       "        <th>cust_country</th>\n",
       "        <th>cust_contact</th>\n",
       "        <th>cust_email</th>\n",
       "    </tr>\n",
       "    <tr>\n",
       "        <td>1000000001</td>\n",
       "        <td>Village Toys</td>\n",
       "        <td>200 Maple Lane</td>\n",
       "        <td>Detroit</td>\n",
       "        <td>MI</td>\n",
       "        <td>44444</td>\n",
       "        <td>USA</td>\n",
       "        <td>John Smith</td>\n",
       "        <td>sales@villagetoys.com</td>\n",
       "    </tr>\n",
       "    <tr>\n",
       "        <td>1000000002</td>\n",
       "        <td>Kids Place</td>\n",
       "        <td>333 South Lake Drive</td>\n",
       "        <td>Columbus</td>\n",
       "        <td>OH</td>\n",
       "        <td>43333</td>\n",
       "        <td>USA</td>\n",
       "        <td>Michelle Green</td>\n",
       "        <td>None</td>\n",
       "    </tr>\n",
       "    <tr>\n",
       "        <td>1000000003</td>\n",
       "        <td>Fun4All</td>\n",
       "        <td>1 Sunny Place</td>\n",
       "        <td>Muncie</td>\n",
       "        <td>IN</td>\n",
       "        <td>42222</td>\n",
       "        <td>USA</td>\n",
       "        <td>Jim Jones</td>\n",
       "        <td>jjones@fun4all.com</td>\n",
       "    </tr>\n",
       "    <tr>\n",
       "        <td>1000000004</td>\n",
       "        <td>Fun4All</td>\n",
       "        <td>829 Riverside Drive</td>\n",
       "        <td>Phoenix</td>\n",
       "        <td>AZ</td>\n",
       "        <td>88888</td>\n",
       "        <td>USA</td>\n",
       "        <td>Denise L. Stephens</td>\n",
       "        <td>dstephens@fun4all.com</td>\n",
       "    </tr>\n",
       "    <tr>\n",
       "        <td>1000000005</td>\n",
       "        <td>The Toy Store</td>\n",
       "        <td>4545 53rd Street</td>\n",
       "        <td>Chicago</td>\n",
       "        <td>IL</td>\n",
       "        <td>54545</td>\n",
       "        <td>USA</td>\n",
       "        <td>Kim Howard</td>\n",
       "        <td>kim@thetoystore.com</td>\n",
       "    </tr>\n",
       "    <tr>\n",
       "        <td>1000000006</td>\n",
       "        <td>Toy Land</td>\n",
       "        <td>123 Any Street</td>\n",
       "        <td>New York</td>\n",
       "        <td>NY</td>\n",
       "        <td>11111</td>\n",
       "        <td>USA</td>\n",
       "        <td>None</td>\n",
       "        <td>None</td>\n",
       "    </tr>\n",
       "</table>"
      ],
      "text/plain": [
       "[('1000000001', 'Village Toys', '200 Maple Lane', 'Detroit', 'MI', '44444', 'USA', 'John Smith', 'sales@villagetoys.com'),\n",
       " ('1000000002', 'Kids Place', '333 South Lake Drive', 'Columbus', 'OH', '43333', 'USA', 'Michelle Green', None),\n",
       " ('1000000003', 'Fun4All', '1 Sunny Place', 'Muncie', 'IN', '42222', 'USA', 'Jim Jones', 'jjones@fun4all.com'),\n",
       " ('1000000004', 'Fun4All', '829 Riverside Drive', 'Phoenix', 'AZ', '88888', 'USA', 'Denise L. Stephens', 'dstephens@fun4all.com'),\n",
       " ('1000000005', 'The Toy Store', '4545 53rd Street', 'Chicago', 'IL', '54545', 'USA', 'Kim Howard', 'kim@thetoystore.com'),\n",
       " ('1000000006', 'Toy Land', '123 Any Street', 'New York', 'NY', '11111', 'USA', None, None)]"
      ]
     },
     "execution_count": 232,
     "metadata": {},
     "output_type": "execute_result"
    }
   ],
   "source": [
    "%sql SELECT * FROM Custu"
   ]
  },
  {
   "cell_type": "code",
   "execution_count": 231,
   "metadata": {},
   "outputs": [
    {
     "name": "stdout",
     "output_type": "stream",
     "text": [
      " * sqlite:///TYSQL.sqlite\n",
      "1 rows affected.\n"
     ]
    },
    {
     "data": {
      "text/plain": [
       "[]"
      ]
     },
     "execution_count": 231,
     "metadata": {},
     "output_type": "execute_result"
    }
   ],
   "source": [
    "%sql DELETE FROM Customers WHERE cust_name = 'Yoyo'"
   ]
  },
  {
   "cell_type": "code",
   "execution_count": null,
   "metadata": {},
   "outputs": [],
   "source": []
  }
 ],
 "metadata": {
  "kernelspec": {
   "display_name": "Python 3",
   "language": "python",
   "name": "python3"
  },
  "language_info": {
   "codemirror_mode": {
    "name": "ipython",
    "version": 3
   },
   "file_extension": ".py",
   "mimetype": "text/x-python",
   "name": "python",
   "nbconvert_exporter": "python",
   "pygments_lexer": "ipython3",
   "version": "3.7.6"
  }
 },
 "nbformat": 4,
 "nbformat_minor": 4
}
