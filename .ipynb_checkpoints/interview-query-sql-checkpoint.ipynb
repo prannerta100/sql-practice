{
 "cells": [
  {
   "cell_type": "code",
   "execution_count": 4,
   "metadata": {},
   "outputs": [],
   "source": [
    "%load_ext sql\n",
    "%sql sqlite:///CapitalBike2012Q1.sqlite  "
   ]
  },
  {
   "cell_type": "code",
   "execution_count": null,
   "metadata": {},
   "outputs": [],
   "source": [
    "import csv, sqlite3\n",
    "\n",
    "con = sqlite3.connect(\"sqlite:///Capital\") # change to 'sqlite:///your_filename.db'\n",
    "cur = con.cursor()\n",
    "cur.execute(\"CREATE TABLE t (col1, col2);\") # use your column names here\n",
    "\n",
    "with open('../../../../Downloads/2012-capitalbikeshare-tripdata/2012Q1-capitalbikeshare-tripdata.csv','r') as fin: # `with` statement available in 2.5+\n",
    "    # csv.DictReader uses first line in file for column headings by default\n",
    "    dr = csv.DictReader(fin) # comma is default delimiter\n",
    "    to_db = [(i['col1'], i['col2']) for i in dr]\n",
    "\n",
    "cur.executemany(\"INSERT INTO t (col1, col2) VALUES (?, ?);\", to_db)\n",
    "con.commit()\n",
    "con.close()"
   ]
  },
  {
   "cell_type": "code",
   "execution_count": 1,
   "metadata": {},
   "outputs": [
    {
     "name": "stdout",
     "output_type": "stream",
     "text": [
      "Collecting csv-to-sqlite\n",
      "  Downloading csv_to_sqlite-2.1.1-py3-none-any.whl (12 kB)\n",
      "Requirement already satisfied: click in c:\\users\\prana\\anaconda3\\lib\\site-packages (from csv-to-sqlite) (7.0)\n",
      "Installing collected packages: csv-to-sqlite\n",
      "Successfully installed csv-to-sqlite-2.1.1\n"
     ]
    }
   ],
   "source": [
    "!pip3 install csv-to-sqlite"
   ]
  },
  {
   "cell_type": "code",
   "execution_count": 14,
   "metadata": {},
   "outputs": [
    {
     "name": "stdout",
     "output_type": "stream",
     "text": [
      "Written 361317 rows into 1 tables in 11.989 seconds\n"
     ]
    },
    {
     "data": {
      "text/plain": [
       "361317"
      ]
     },
     "execution_count": 14,
     "metadata": {},
     "output_type": "execute_result"
    }
   ],
   "source": [
    "import csv_to_sqlite\n",
    "options = csv_to_sqlite.CsvOptions(typing_style=\"full\", encoding=\"windows-1250\") \n",
    "csv_to_sqlite.write_csv(['Q1Capital2012.csv'], \"CapitalBike2012Q1.sqlite\", options)"
   ]
  },
  {
   "cell_type": "code",
   "execution_count": 16,
   "metadata": {},
   "outputs": [
    {
     "name": "stdout",
     "output_type": "stream",
     "text": [
      " * sqlite:///CapitalBike2012Q1.sqlite\n",
      "Done.\n"
     ]
    },
    {
     "data": {
      "text/html": [
       "<table>\n",
       "    <tr>\n",
       "        <th>SUM(Duration)</th>\n",
       "    </tr>\n",
       "    <tr>\n",
       "        <td>340886579</td>\n",
       "    </tr>\n",
       "</table>"
      ],
      "text/plain": [
       "[(340886579,)]"
      ]
     },
     "execution_count": 16,
     "metadata": {},
     "output_type": "execute_result"
    }
   ],
   "source": [
    "%sql SELECT SUM(Duration) FROM Q1Capital2012 LIMIT 5;"
   ]
  },
  {
   "cell_type": "code",
   "execution_count": null,
   "metadata": {},
   "outputs": [],
   "source": []
  }
 ],
 "metadata": {
  "kernelspec": {
   "display_name": "Python 3",
   "language": "python",
   "name": "python3"
  },
  "language_info": {
   "codemirror_mode": {
    "name": "ipython",
    "version": 3
   },
   "file_extension": ".py",
   "mimetype": "text/x-python",
   "name": "python",
   "nbconvert_exporter": "python",
   "pygments_lexer": "ipython3",
   "version": "3.7.6"
  }
 },
 "nbformat": 4,
 "nbformat_minor": 4
}
